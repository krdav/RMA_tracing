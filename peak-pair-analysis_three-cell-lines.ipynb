{
 "cells": [
  {
   "cell_type": "code",
   "execution_count": 1,
   "metadata": {},
   "outputs": [],
   "source": [
    "%load_ext autoreload\n",
    "%autoreload 2"
   ]
  },
  {
   "cell_type": "code",
   "execution_count": 2,
   "metadata": {},
   "outputs": [],
   "source": [
    "import pandas as pd\n",
    "pd.set_option('display.max_columns', 50)\n",
    "import numpy as np\n",
    "import copy\n",
    "import random\n",
    "import json\n",
    "import pprint\n",
    "pp = pprint.PrettyPrinter(width=41, compact=True)"
   ]
  },
  {
   "cell_type": "code",
   "execution_count": 3,
   "metadata": {},
   "outputs": [],
   "source": [
    "import seaborn as sns\n",
    "import matplotlib.pyplot as plt\n",
    "import matplotlib.backends.backend_pdf\n",
    "import matplotlib.colors as mcolors\n",
    "import matplotlib.ticker as ticker\n",
    "import matplotlib.gridspec as gridspec\n",
    "palette = list(mcolors.TABLEAU_COLORS.keys())\n",
    "%matplotlib inline\n",
    "#sns.set_theme(style=\"ticks\", palette=\"pastel\")\n",
    "sns.set_theme(style=\"ticks\", palette=\"muted\")\n",
    "sns.set_context(\"talk\")"
   ]
  },
  {
   "cell_type": "code",
   "execution_count": 4,
   "metadata": {},
   "outputs": [],
   "source": [
    "from resources.helper import PeakData, Isotopes\n",
    "known_cys_fnam = 'resources/known_cys_labeled.tab'\n",
    "known_gln_fnam = 'resources/known_gln_labeled.tab'\n",
    "blacklist_fnam = 'resources/blacklist.tab'\n",
    "\n",
    "# Read isotope information into an object:\n",
    "IUPAC_atomic_masses = 'resources/IUPAC-atomic-masses.csv'\n",
    "IUPAC_atomic_abundances = 'resources/IUPAC-atomic-abundances.html'\n",
    "isotope_obj = Isotopes(IUPAC_atomic_masses, IUPAC_atomic_abundances)\n",
    "\n",
    "# Adducts:\n",
    "adducts_fnam = 'resources/adducts.tab'"
   ]
  },
  {
   "cell_type": "code",
   "execution_count": null,
   "metadata": {},
   "outputs": [],
   "source": []
  },
  {
   "cell_type": "code",
   "execution_count": null,
   "metadata": {},
   "outputs": [],
   "source": []
  },
  {
   "cell_type": "code",
   "execution_count": null,
   "metadata": {},
   "outputs": [],
   "source": []
  },
  {
   "cell_type": "code",
   "execution_count": null,
   "metadata": {},
   "outputs": [],
   "source": []
  },
  {
   "cell_type": "markdown",
   "metadata": {},
   "source": [
    "## Define default parameters for peak filtering and peak pair finding"
   ]
  },
  {
   "cell_type": "code",
   "execution_count": 5,
   "metadata": {},
   "outputs": [
    {
     "name": "stdout",
     "output_type": "stream",
     "text": [
      "Calculated mass shift for entered labels:\n",
      "{'cys': 4.007099400040005,\n",
      " 'gln': 5.016774176699997,\n",
      " 'gly': 2.0067096706799994}\n"
     ]
    }
   ],
   "source": [
    "params = {\n",
    "    ### Specify the formula for the isotopes in the labels used ###\n",
    "    'labels': {\n",
    "        'cys': '[13]C3 [15]N',\n",
    "        'gly': '[13]C2',\n",
    "        'gln': '[13]C5'\n",
    "    },\n",
    "    # End of isotope specification ################################\n",
    "\n",
    "    ### Peak filter parameters ###\n",
    "    'min_area': 6000,         # minimum peak area for at least one sample\n",
    "    'min_area_label': 6000,   # minimum peak area for at least one labelled sample\n",
    "    'min_MW': 120,            # minimum molecular weight of a compound (120 is one Da below Cysteine)\n",
    "    'min_fold_blank': 4,      # minimum sample to blank peak area ratio\n",
    "                              # i.e. max(sample)/max(blank) > min_fold_blank\n",
    "\n",
    "    # Peak filter: peak merging #\n",
    "    # Merge peaks within a ppm mass distance AND within\n",
    "    # a retention time difference OR a retention time difference x2\n",
    "    # AND over a minimum peak area correlation coefficient\n",
    "    'merge_ppm_tol': 50,      # maximum mass distance (in ppm) between peaks to merge\n",
    "    'merge_RT_tol': 0.1,      # maximum retention time difference between peaks to merge\n",
    "    'merge_corr_tol':0.9,     # minimum peak area correlation coefficient\n",
    "    # End of peak filter #########\n",
    "    \n",
    "    ### Peak pair finding ###\n",
    "    'pair_ppm_tol': 10,            # maximum mass distance (in ppm) of expected mass shift between pairs\n",
    "    'pair_RT_tol': 0.25,           # maximum retention time difference between pairs\n",
    "    'pair_min_area': 1,            # minimum number of sample that pass the area ratio criterium\n",
    "\n",
    "    # Range, or list of ranges, of labelled to unlabelled peak area ratios\n",
    "    # within the accepted cutoff (ratio = labelled / sum(labelled, unlabelled))\n",
    "    # These ratios are adjusted on an experiment-to-experiment basis (see below examples).\n",
    "    'area_ratio_cutoff': {\n",
    "        'cys': ((0.2, 0.28),\n",
    "                (0.34, 0.42)),  # GSSG theoretical parent/(parent+heavy) is 0.25 with 50/50 labelled\n",
    "        'gly': ((0.08, 0.24),),\n",
    "        'gln': ((0.18, 0.6),),\n",
    "    },\n",
    "    # End of pair finding ###\n",
    "    \n",
    "    ### Peak pair filter parameters ###\n",
    "    # Pair filter: adduct flagging #\n",
    "    # Flag an adduct if it is within a ppm mass distance\n",
    "    # and within a retention time difference\n",
    "    # and has smaller total peak area than its parent ion\n",
    "    'adduct_ppm_tol': 200,     # maximum mass distance (in ppm) to call adduct\n",
    "    'adduct_RT_tol': 0.8,      # maximum retention time difference to call adduct\n",
    "\n",
    "    # Pair filter: isotope flagging #\n",
    "    # Flag an isotope if it is within a ppm mass distance\n",
    "    # and within a retention time difference\n",
    "    # and has a minimum peak area correlation coefficient\n",
    "    # and has smaller total peak area than its parent ion\n",
    "    'isotope_ppm_tol': 200,     # maximum mass distance (in ppm) to call isotope\n",
    "    'isotope_RT_tol': 0.4,      # maximum retention time difference to call isotope\n",
    "    'isotope_corr_tol':0.7,     # minimum peak area correlation coefficient to call isotope\n",
    "    # End of peak pair filter #########\n",
    "\n",
    "}\n",
    "\n",
    "# Calculate the mass shift for each label:\n",
    "params['MW_shift'] = dict()\n",
    "for label in params['labels']:\n",
    "    params['MW_shift'][label] = isotope_obj.isotopes2mass_shift(params['labels'][label])\n",
    "print('Calculated mass shift for entered labels:')\n",
    "pp.pprint(params['MW_shift'])"
   ]
  },
  {
   "cell_type": "code",
   "execution_count": null,
   "metadata": {},
   "outputs": [],
   "source": []
  },
  {
   "cell_type": "code",
   "execution_count": null,
   "metadata": {},
   "outputs": [],
   "source": []
  },
  {
   "cell_type": "markdown",
   "metadata": {},
   "source": [
    "## Cysteine and glutamine tracing on three cancer cell lines\n",
    "\n",
    "In this dataset three cancer cell lines were used for tracing: B16F10, HCT116 and HUH-7.\n",
    "\n",
    "Cells were seeded on 6-well plates and at ~50 % confluency media was swapped to contain either vehicle, label or drug:\n",
    "1. Vehicle\n",
    "2. 50/50 labelled/unlabelled cystine\n",
    "3. 50/50 labelled/unlabelled glutamine\n",
    "4. 10 uM BSO (glutahione synthesis inhibitor)\n",
    "\n",
    "After 24 hours metabolites were harvested by removing the media, washing once with cold saline and extracing metabolites using 80 % methanol.\n",
    "Each condition was repeated to make replicates and the BSO treated extract was split in two, with one half recieving a spike-in of purified glutathione equivalent to the expected depletion of glutathione by the BSO treatment.\n",
    "This spike-in sample can be used to discriminate glutahione ionization adducts from those biologically produced.\n",
    "For example a glutathione ionization adduct will decrease upon BSO treatment, becuase glutathione levels fall, but will increase again in the spike-in samples.\n",
    "On the contrary, succinylglutathione is biologically produced from glutathione and fumarate.\n",
    "It is depleted upon BSO treatment but not rescued by glutathione spike-in.\n",
    "\n",
    "In addition to these samples a set of blanks were made.\n",
    "Solvent blanks were made from the extraction solvent.\n",
    "Extraction blanks were made by performing metabolite extracting on a well without cells."
   ]
  },
  {
   "cell_type": "code",
   "execution_count": 6,
   "metadata": {},
   "outputs": [
    {
     "name": "stdout",
     "output_type": "stream",
     "text": [
      "Running peak filtering for polarity: pos\n",
      "Filtered 17750 peaks out based on.\n",
      "Minimum peak area: 12127\n",
      "Minimum molecular weight: 156\n",
      "Minimum fold over blank: 4718\n",
      "Merged closely related peaks: 749\n",
      "10446 peaks left.\n",
      "\n",
      "Running peak filtering for polarity: neg\n",
      "Filtered 4930 peaks out based on.\n",
      "Minimum peak area: 3086\n",
      "Minimum molecular weight: 59\n",
      "Minimum fold over blank: 1198\n",
      "Merged closely related peaks: 587\n",
      "8075 peaks left.\n",
      "\n"
     ]
    }
   ],
   "source": [
    "# Excel data filenames:\n",
    "datafile_pos = 'projects/three-cell-lines/pos/three-cell-lines_cys-gln-tracing_pos.xlsx'\n",
    "datafile_neg = 'projects/three-cell-lines/neg/three-cell-lines_cys-gln-tracing_neg.xlsx'\n",
    "\n",
    "# Input information:\n",
    "input_desc_fnam = 'projects/three-cell-lines/three-cell-lines.json'\n",
    "# Since comments are not allowed in JSON format\n",
    "# Use the eval function to turn this pseudo JSON into a dictionary:\n",
    "input_desc = eval(open(input_desc_fnam, 'r').read())\n",
    "\n",
    "# Read the data:\n",
    "peak_obj = PeakData('three-cell-lines_cys-gln_tracing', input_desc, params)\n",
    "\n",
    "# Read peaks:\n",
    "peak_obj.read_peaks(datafile_pos, 'pos')\n",
    "peak_obj.read_peaks(datafile_neg, 'neg')\n",
    "\n",
    "# Annotate known peaks:\n",
    "peak_obj.annotate_known_peaks(known_cys_fnam, isotope_obj.formula2mass)"
   ]
  },
  {
   "cell_type": "code",
   "execution_count": null,
   "metadata": {},
   "outputs": [],
   "source": []
  },
  {
   "cell_type": "markdown",
   "metadata": {},
   "source": [
    "### Adjust parameters for peak pair finding"
   ]
  },
  {
   "cell_type": "code",
   "execution_count": 7,
   "metadata": {},
   "outputs": [
    {
     "data": {
      "text/html": [
       "<div>\n",
       "<style scoped>\n",
       "    .dataframe tbody tr th:only-of-type {\n",
       "        vertical-align: middle;\n",
       "    }\n",
       "\n",
       "    .dataframe tbody tr th {\n",
       "        vertical-align: top;\n",
       "    }\n",
       "\n",
       "    .dataframe thead th {\n",
       "        text-align: right;\n",
       "    }\n",
       "</style>\n",
       "<table border=\"1\" class=\"dataframe\">\n",
       "  <thead>\n",
       "    <tr style=\"text-align: right;\">\n",
       "      <th></th>\n",
       "      <th>GSH (m)</th>\n",
       "      <th>GSH (m+5)</th>\n",
       "      <th>GSSG (m)</th>\n",
       "      <th>GSSG (m+5)</th>\n",
       "      <th>Glutamine (m)</th>\n",
       "      <th>Glutamine (m+5)</th>\n",
       "      <th>S-Lactoylglutathione (m)</th>\n",
       "      <th>S-Lactoylglutathione (m+5)</th>\n",
       "      <th>S-(Formylmethyl)glutathione (m)</th>\n",
       "      <th>S-(Formylmethyl)glutathione (m+5)</th>\n",
       "      <th>Succinylglutathione (m)</th>\n",
       "      <th>Succinylglutathione (m+5)</th>\n",
       "    </tr>\n",
       "  </thead>\n",
       "  <tbody>\n",
       "    <tr>\n",
       "      <th>count</th>\n",
       "      <td>6.000000</td>\n",
       "      <td>6.000000</td>\n",
       "      <td>6.000000</td>\n",
       "      <td>6.000000</td>\n",
       "      <td>6.000000</td>\n",
       "      <td>6.000000</td>\n",
       "      <td>6.000000</td>\n",
       "      <td>6.000000</td>\n",
       "      <td>6.000000</td>\n",
       "      <td>6.000000</td>\n",
       "      <td>6.000000</td>\n",
       "      <td>6.000000</td>\n",
       "    </tr>\n",
       "    <tr>\n",
       "      <th>mean</th>\n",
       "      <td>0.706353</td>\n",
       "      <td>0.293647</td>\n",
       "      <td>0.501986</td>\n",
       "      <td>0.498014</td>\n",
       "      <td>0.748492</td>\n",
       "      <td>0.251508</td>\n",
       "      <td>0.778366</td>\n",
       "      <td>0.221634</td>\n",
       "      <td>0.964771</td>\n",
       "      <td>0.035229</td>\n",
       "      <td>0.781599</td>\n",
       "      <td>0.218401</td>\n",
       "    </tr>\n",
       "    <tr>\n",
       "      <th>std</th>\n",
       "      <td>0.044330</td>\n",
       "      <td>0.044330</td>\n",
       "      <td>0.063667</td>\n",
       "      <td>0.063667</td>\n",
       "      <td>0.195165</td>\n",
       "      <td>0.195165</td>\n",
       "      <td>0.122729</td>\n",
       "      <td>0.122729</td>\n",
       "      <td>0.011219</td>\n",
       "      <td>0.011219</td>\n",
       "      <td>0.068100</td>\n",
       "      <td>0.068100</td>\n",
       "    </tr>\n",
       "    <tr>\n",
       "      <th>min</th>\n",
       "      <td>0.670363</td>\n",
       "      <td>0.226351</td>\n",
       "      <td>0.450537</td>\n",
       "      <td>0.384438</td>\n",
       "      <td>0.602936</td>\n",
       "      <td>0.000114</td>\n",
       "      <td>0.604656</td>\n",
       "      <td>0.084939</td>\n",
       "      <td>0.947687</td>\n",
       "      <td>0.020679</td>\n",
       "      <td>0.681427</td>\n",
       "      <td>0.109230</td>\n",
       "    </tr>\n",
       "    <tr>\n",
       "      <th>25%</th>\n",
       "      <td>0.677589</td>\n",
       "      <td>0.265359</td>\n",
       "      <td>0.456110</td>\n",
       "      <td>0.477296</td>\n",
       "      <td>0.619647</td>\n",
       "      <td>0.089589</td>\n",
       "      <td>0.705748</td>\n",
       "      <td>0.120872</td>\n",
       "      <td>0.959749</td>\n",
       "      <td>0.028727</td>\n",
       "      <td>0.764236</td>\n",
       "      <td>0.200284</td>\n",
       "    </tr>\n",
       "    <tr>\n",
       "      <th>50%</th>\n",
       "      <td>0.683349</td>\n",
       "      <td>0.316651</td>\n",
       "      <td>0.480547</td>\n",
       "      <td>0.519453</td>\n",
       "      <td>0.636041</td>\n",
       "      <td>0.363959</td>\n",
       "      <td>0.777983</td>\n",
       "      <td>0.222017</td>\n",
       "      <td>0.965193</td>\n",
       "      <td>0.034807</td>\n",
       "      <td>0.774097</td>\n",
       "      <td>0.225903</td>\n",
       "    </tr>\n",
       "    <tr>\n",
       "      <th>75%</th>\n",
       "      <td>0.734641</td>\n",
       "      <td>0.322411</td>\n",
       "      <td>0.522704</td>\n",
       "      <td>0.543890</td>\n",
       "      <td>0.910411</td>\n",
       "      <td>0.380353</td>\n",
       "      <td>0.879128</td>\n",
       "      <td>0.294252</td>\n",
       "      <td>0.971273</td>\n",
       "      <td>0.040251</td>\n",
       "      <td>0.799716</td>\n",
       "      <td>0.235764</td>\n",
       "    </tr>\n",
       "    <tr>\n",
       "      <th>max</th>\n",
       "      <td>0.773649</td>\n",
       "      <td>0.329637</td>\n",
       "      <td>0.615562</td>\n",
       "      <td>0.549463</td>\n",
       "      <td>0.999886</td>\n",
       "      <td>0.397064</td>\n",
       "      <td>0.915061</td>\n",
       "      <td>0.395344</td>\n",
       "      <td>0.979321</td>\n",
       "      <td>0.052313</td>\n",
       "      <td>0.890770</td>\n",
       "      <td>0.318573</td>\n",
       "    </tr>\n",
       "  </tbody>\n",
       "</table>\n",
       "</div>"
      ],
      "text/plain": [
       "        GSH (m)  GSH (m+5)  GSSG (m)  GSSG (m+5)  Glutamine (m)  \\\n",
       "count  6.000000   6.000000  6.000000    6.000000       6.000000   \n",
       "mean   0.706353   0.293647  0.501986    0.498014       0.748492   \n",
       "std    0.044330   0.044330  0.063667    0.063667       0.195165   \n",
       "min    0.670363   0.226351  0.450537    0.384438       0.602936   \n",
       "25%    0.677589   0.265359  0.456110    0.477296       0.619647   \n",
       "50%    0.683349   0.316651  0.480547    0.519453       0.636041   \n",
       "75%    0.734641   0.322411  0.522704    0.543890       0.910411   \n",
       "max    0.773649   0.329637  0.615562    0.549463       0.999886   \n",
       "\n",
       "       Glutamine (m+5)  S-Lactoylglutathione (m)  S-Lactoylglutathione (m+5)  \\\n",
       "count         6.000000                  6.000000                    6.000000   \n",
       "mean          0.251508                  0.778366                    0.221634   \n",
       "std           0.195165                  0.122729                    0.122729   \n",
       "min           0.000114                  0.604656                    0.084939   \n",
       "25%           0.089589                  0.705748                    0.120872   \n",
       "50%           0.363959                  0.777983                    0.222017   \n",
       "75%           0.380353                  0.879128                    0.294252   \n",
       "max           0.397064                  0.915061                    0.395344   \n",
       "\n",
       "       S-(Formylmethyl)glutathione (m)  S-(Formylmethyl)glutathione (m+5)  \\\n",
       "count                         6.000000                           6.000000   \n",
       "mean                          0.964771                           0.035229   \n",
       "std                           0.011219                           0.011219   \n",
       "min                           0.947687                           0.020679   \n",
       "25%                           0.959749                           0.028727   \n",
       "50%                           0.965193                           0.034807   \n",
       "75%                           0.971273                           0.040251   \n",
       "max                           0.979321                           0.052313   \n",
       "\n",
       "       Succinylglutathione (m)  Succinylglutathione (m+5)  \n",
       "count                 6.000000                   6.000000  \n",
       "mean                  0.781599                   0.218401  \n",
       "std                   0.068100                   0.068100  \n",
       "min                   0.681427                   0.109230  \n",
       "25%                   0.764236                   0.200284  \n",
       "50%                   0.774097                   0.225903  \n",
       "75%                   0.799716                   0.235764  \n",
       "max                   0.890770                   0.318573  "
      ]
     },
     "execution_count": 7,
     "metadata": {},
     "output_type": "execute_result"
    }
   ],
   "source": [
    "# Find labelling ratio for known glutamine labelled\n",
    "# compounds in positive polarity:\n",
    "peak_obj.pick_ratio(known_gln_fnam, 'pos', isotope_obj.formula2mass, 'gln', ['m', 'm+5'])"
   ]
  },
  {
   "cell_type": "markdown",
   "metadata": {},
   "source": [
    "Notice that the minimum glutamine m+5 fraction is very low.\n",
    "Upon inspection it appears to be a problem specific for the B16F10 samples.\n",
    "However, since the problem seems to be isolated to glutamine no futher change were made."
   ]
  },
  {
   "cell_type": "code",
   "execution_count": 8,
   "metadata": {},
   "outputs": [
    {
     "data": {
      "text/html": [
       "<div>\n",
       "<style scoped>\n",
       "    .dataframe tbody tr th:only-of-type {\n",
       "        vertical-align: middle;\n",
       "    }\n",
       "\n",
       "    .dataframe tbody tr th {\n",
       "        vertical-align: top;\n",
       "    }\n",
       "\n",
       "    .dataframe thead th {\n",
       "        text-align: right;\n",
       "    }\n",
       "</style>\n",
       "<table border=\"1\" class=\"dataframe\">\n",
       "  <thead>\n",
       "    <tr style=\"text-align: right;\">\n",
       "      <th></th>\n",
       "      <th>GSH (m)</th>\n",
       "      <th>GSH (m+5)</th>\n",
       "      <th>GSSG (m)</th>\n",
       "      <th>GSSG (m+5)</th>\n",
       "      <th>Glutamine (m)</th>\n",
       "      <th>Glutamine (m+5)</th>\n",
       "      <th>S-Lactoylglutathione (m)</th>\n",
       "      <th>S-Lactoylglutathione (m+5)</th>\n",
       "      <th>S-(Formylmethyl)glutathione (m)</th>\n",
       "      <th>S-(Formylmethyl)glutathione (m+5)</th>\n",
       "    </tr>\n",
       "  </thead>\n",
       "  <tbody>\n",
       "    <tr>\n",
       "      <th>count</th>\n",
       "      <td>6.000000</td>\n",
       "      <td>6.000000</td>\n",
       "      <td>6.000000</td>\n",
       "      <td>6.000000</td>\n",
       "      <td>6.000000</td>\n",
       "      <td>6.000000</td>\n",
       "      <td>6.000000</td>\n",
       "      <td>6.000000</td>\n",
       "      <td>6.000000</td>\n",
       "      <td>6.000000</td>\n",
       "    </tr>\n",
       "    <tr>\n",
       "      <th>mean</th>\n",
       "      <td>0.720994</td>\n",
       "      <td>0.279006</td>\n",
       "      <td>0.504919</td>\n",
       "      <td>0.495081</td>\n",
       "      <td>0.585309</td>\n",
       "      <td>0.414691</td>\n",
       "      <td>0.497761</td>\n",
       "      <td>0.502239</td>\n",
       "      <td>0.689876</td>\n",
       "      <td>0.310124</td>\n",
       "    </tr>\n",
       "    <tr>\n",
       "      <th>std</th>\n",
       "      <td>0.048921</td>\n",
       "      <td>0.048921</td>\n",
       "      <td>0.089037</td>\n",
       "      <td>0.089037</td>\n",
       "      <td>0.106959</td>\n",
       "      <td>0.106959</td>\n",
       "      <td>0.119584</td>\n",
       "      <td>0.119584</td>\n",
       "      <td>0.060470</td>\n",
       "      <td>0.060470</td>\n",
       "    </tr>\n",
       "    <tr>\n",
       "      <th>min</th>\n",
       "      <td>0.683473</td>\n",
       "      <td>0.207522</td>\n",
       "      <td>0.407442</td>\n",
       "      <td>0.366646</td>\n",
       "      <td>0.493585</td>\n",
       "      <td>0.277878</td>\n",
       "      <td>0.308545</td>\n",
       "      <td>0.399623</td>\n",
       "      <td>0.627538</td>\n",
       "      <td>0.201145</td>\n",
       "    </tr>\n",
       "    <tr>\n",
       "      <th>25%</th>\n",
       "      <td>0.686734</td>\n",
       "      <td>0.244808</td>\n",
       "      <td>0.445491</td>\n",
       "      <td>0.433301</td>\n",
       "      <td>0.502242</td>\n",
       "      <td>0.322466</td>\n",
       "      <td>0.428448</td>\n",
       "      <td>0.422813</td>\n",
       "      <td>0.651230</td>\n",
       "      <td>0.301098</td>\n",
       "    </tr>\n",
       "    <tr>\n",
       "      <th>50%</th>\n",
       "      <td>0.695582</td>\n",
       "      <td>0.304418</td>\n",
       "      <td>0.479349</td>\n",
       "      <td>0.520651</td>\n",
       "      <td>0.542336</td>\n",
       "      <td>0.457664</td>\n",
       "      <td>0.552600</td>\n",
       "      <td>0.447400</td>\n",
       "      <td>0.684518</td>\n",
       "      <td>0.315482</td>\n",
       "    </tr>\n",
       "    <tr>\n",
       "      <th>75%</th>\n",
       "      <td>0.755192</td>\n",
       "      <td>0.313266</td>\n",
       "      <td>0.566699</td>\n",
       "      <td>0.554509</td>\n",
       "      <td>0.677534</td>\n",
       "      <td>0.497758</td>\n",
       "      <td>0.577187</td>\n",
       "      <td>0.571552</td>\n",
       "      <td>0.698902</td>\n",
       "      <td>0.348770</td>\n",
       "    </tr>\n",
       "    <tr>\n",
       "      <th>max</th>\n",
       "      <td>0.792478</td>\n",
       "      <td>0.316527</td>\n",
       "      <td>0.633354</td>\n",
       "      <td>0.592558</td>\n",
       "      <td>0.722122</td>\n",
       "      <td>0.506415</td>\n",
       "      <td>0.600377</td>\n",
       "      <td>0.691455</td>\n",
       "      <td>0.798855</td>\n",
       "      <td>0.372462</td>\n",
       "    </tr>\n",
       "  </tbody>\n",
       "</table>\n",
       "</div>"
      ],
      "text/plain": [
       "        GSH (m)  GSH (m+5)  GSSG (m)  GSSG (m+5)  Glutamine (m)  \\\n",
       "count  6.000000   6.000000  6.000000    6.000000       6.000000   \n",
       "mean   0.720994   0.279006  0.504919    0.495081       0.585309   \n",
       "std    0.048921   0.048921  0.089037    0.089037       0.106959   \n",
       "min    0.683473   0.207522  0.407442    0.366646       0.493585   \n",
       "25%    0.686734   0.244808  0.445491    0.433301       0.502242   \n",
       "50%    0.695582   0.304418  0.479349    0.520651       0.542336   \n",
       "75%    0.755192   0.313266  0.566699    0.554509       0.677534   \n",
       "max    0.792478   0.316527  0.633354    0.592558       0.722122   \n",
       "\n",
       "       Glutamine (m+5)  S-Lactoylglutathione (m)  S-Lactoylglutathione (m+5)  \\\n",
       "count         6.000000                  6.000000                    6.000000   \n",
       "mean          0.414691                  0.497761                    0.502239   \n",
       "std           0.106959                  0.119584                    0.119584   \n",
       "min           0.277878                  0.308545                    0.399623   \n",
       "25%           0.322466                  0.428448                    0.422813   \n",
       "50%           0.457664                  0.552600                    0.447400   \n",
       "75%           0.497758                  0.577187                    0.571552   \n",
       "max           0.506415                  0.600377                    0.691455   \n",
       "\n",
       "       S-(Formylmethyl)glutathione (m)  S-(Formylmethyl)glutathione (m+5)  \n",
       "count                         6.000000                           6.000000  \n",
       "mean                          0.689876                           0.310124  \n",
       "std                           0.060470                           0.060470  \n",
       "min                           0.627538                           0.201145  \n",
       "25%                           0.651230                           0.301098  \n",
       "50%                           0.684518                           0.315482  \n",
       "75%                           0.698902                           0.348770  \n",
       "max                           0.798855                           0.372462  "
      ]
     },
     "execution_count": 8,
     "metadata": {},
     "output_type": "execute_result"
    }
   ],
   "source": [
    "# Find labelling ratio for known glutamine labelled\n",
    "# compounds in negative polarity:\n",
    "peak_obj.pick_ratio(known_gln_fnam, 'neg', isotope_obj.formula2mass, 'gln', ['m', 'm+5'])"
   ]
  },
  {
   "cell_type": "code",
   "execution_count": 9,
   "metadata": {},
   "outputs": [],
   "source": [
    "# Based on above analysis the m+5 ratio cutoff is chosen.\n",
    "peak_obj.params['area_ratio_cutoff']['gln'] = ((0.05, 0.70),)"
   ]
  },
  {
   "cell_type": "code",
   "execution_count": null,
   "metadata": {},
   "outputs": [],
   "source": []
  },
  {
   "cell_type": "code",
   "execution_count": 10,
   "metadata": {},
   "outputs": [
    {
     "data": {
      "text/html": [
       "<div>\n",
       "<style scoped>\n",
       "    .dataframe tbody tr th:only-of-type {\n",
       "        vertical-align: middle;\n",
       "    }\n",
       "\n",
       "    .dataframe tbody tr th {\n",
       "        vertical-align: top;\n",
       "    }\n",
       "\n",
       "    .dataframe thead th {\n",
       "        text-align: right;\n",
       "    }\n",
       "</style>\n",
       "<table border=\"1\" class=\"dataframe\">\n",
       "  <thead>\n",
       "    <tr style=\"text-align: right;\">\n",
       "      <th></th>\n",
       "      <th>GSH (m)</th>\n",
       "      <th>GSH (m+4)</th>\n",
       "      <th>GSSG (m)</th>\n",
       "      <th>GSSG (m+4)</th>\n",
       "      <th>S-Lactoylglutathione (m)</th>\n",
       "      <th>S-Lactoylglutathione (m+4)</th>\n",
       "      <th>S-(Formylmethyl)glutathione (m)</th>\n",
       "      <th>S-(Formylmethyl)glutathione (m+4)</th>\n",
       "      <th>G3P Cys (m)</th>\n",
       "      <th>G3P Cys (m+4)</th>\n",
       "      <th>Cysteine (m)</th>\n",
       "      <th>Cysteine (m+4)</th>\n",
       "      <th>DHAP Cys (m)</th>\n",
       "      <th>DHAP Cys (m+4)</th>\n",
       "      <th>G6P Cys (m)</th>\n",
       "      <th>G6P Cys (m+4)</th>\n",
       "      <th>Succinylcysteine (m)</th>\n",
       "      <th>Succinylcysteine (m+4)</th>\n",
       "      <th>Succinylglutathione (m)</th>\n",
       "      <th>Succinylglutathione (m+4)</th>\n",
       "      <th>Conjugate EC = C3H3O2 (m)</th>\n",
       "      <th>Conjugate EC = C3H3O2 (m+4)</th>\n",
       "      <th>Sulfinic glutathione (m)</th>\n",
       "      <th>Sulfinic glutathione (m+4)</th>\n",
       "      <th>Cysteinylglycine (m)</th>\n",
       "      <th>Cysteinylglycine (m+4)</th>\n",
       "      <th>GSH conjugate EC = C4H10NO (m)</th>\n",
       "      <th>GSH conjugate EC = C4H10NO (m+4)</th>\n",
       "    </tr>\n",
       "  </thead>\n",
       "  <tbody>\n",
       "    <tr>\n",
       "      <th>count</th>\n",
       "      <td>6.000000</td>\n",
       "      <td>6.000000</td>\n",
       "      <td>6.000000</td>\n",
       "      <td>6.000000</td>\n",
       "      <td>6.000000</td>\n",
       "      <td>6.000000</td>\n",
       "      <td>6.000000</td>\n",
       "      <td>6.000000</td>\n",
       "      <td>6.000000</td>\n",
       "      <td>6.000000</td>\n",
       "      <td>6.000000</td>\n",
       "      <td>6.000000</td>\n",
       "      <td>6.000000</td>\n",
       "      <td>6.000000</td>\n",
       "      <td>6.000000</td>\n",
       "      <td>6.000000</td>\n",
       "      <td>6.000000</td>\n",
       "      <td>6.000000</td>\n",
       "      <td>6.000000</td>\n",
       "      <td>6.000000</td>\n",
       "      <td>6.000000</td>\n",
       "      <td>6.000000</td>\n",
       "      <td>6.000000</td>\n",
       "      <td>6.000000</td>\n",
       "      <td>6.000000</td>\n",
       "      <td>6.000000</td>\n",
       "      <td>6.0</td>\n",
       "      <td>6.0</td>\n",
       "    </tr>\n",
       "    <tr>\n",
       "      <th>mean</th>\n",
       "      <td>0.563285</td>\n",
       "      <td>0.436715</td>\n",
       "      <td>0.541440</td>\n",
       "      <td>0.458560</td>\n",
       "      <td>0.497320</td>\n",
       "      <td>0.502680</td>\n",
       "      <td>0.529526</td>\n",
       "      <td>0.470474</td>\n",
       "      <td>0.808538</td>\n",
       "      <td>0.191462</td>\n",
       "      <td>0.707472</td>\n",
       "      <td>0.292528</td>\n",
       "      <td>0.808538</td>\n",
       "      <td>0.191462</td>\n",
       "      <td>0.578696</td>\n",
       "      <td>0.421304</td>\n",
       "      <td>0.713830</td>\n",
       "      <td>0.286170</td>\n",
       "      <td>0.732478</td>\n",
       "      <td>0.267522</td>\n",
       "      <td>0.609646</td>\n",
       "      <td>0.390354</td>\n",
       "      <td>0.572935</td>\n",
       "      <td>0.427065</td>\n",
       "      <td>0.562166</td>\n",
       "      <td>0.437834</td>\n",
       "      <td>0.5</td>\n",
       "      <td>0.5</td>\n",
       "    </tr>\n",
       "    <tr>\n",
       "      <th>std</th>\n",
       "      <td>0.010652</td>\n",
       "      <td>0.010652</td>\n",
       "      <td>0.096637</td>\n",
       "      <td>0.096637</td>\n",
       "      <td>0.080836</td>\n",
       "      <td>0.080836</td>\n",
       "      <td>0.147446</td>\n",
       "      <td>0.147446</td>\n",
       "      <td>0.024534</td>\n",
       "      <td>0.024534</td>\n",
       "      <td>0.099690</td>\n",
       "      <td>0.099690</td>\n",
       "      <td>0.024534</td>\n",
       "      <td>0.024534</td>\n",
       "      <td>0.064307</td>\n",
       "      <td>0.064307</td>\n",
       "      <td>0.064384</td>\n",
       "      <td>0.064384</td>\n",
       "      <td>0.057698</td>\n",
       "      <td>0.057698</td>\n",
       "      <td>0.149537</td>\n",
       "      <td>0.149537</td>\n",
       "      <td>0.022523</td>\n",
       "      <td>0.022523</td>\n",
       "      <td>0.017468</td>\n",
       "      <td>0.017468</td>\n",
       "      <td>0.0</td>\n",
       "      <td>0.0</td>\n",
       "    </tr>\n",
       "    <tr>\n",
       "      <th>min</th>\n",
       "      <td>0.551807</td>\n",
       "      <td>0.420360</td>\n",
       "      <td>0.405714</td>\n",
       "      <td>0.332617</td>\n",
       "      <td>0.385640</td>\n",
       "      <td>0.412349</td>\n",
       "      <td>0.286555</td>\n",
       "      <td>0.333315</td>\n",
       "      <td>0.784538</td>\n",
       "      <td>0.148575</td>\n",
       "      <td>0.568654</td>\n",
       "      <td>0.141116</td>\n",
       "      <td>0.784538</td>\n",
       "      <td>0.148575</td>\n",
       "      <td>0.511486</td>\n",
       "      <td>0.328042</td>\n",
       "      <td>0.600183</td>\n",
       "      <td>0.227215</td>\n",
       "      <td>0.632779</td>\n",
       "      <td>0.215735</td>\n",
       "      <td>0.475055</td>\n",
       "      <td>0.185855</td>\n",
       "      <td>0.545853</td>\n",
       "      <td>0.397491</td>\n",
       "      <td>0.536003</td>\n",
       "      <td>0.416328</td>\n",
       "      <td>0.5</td>\n",
       "      <td>0.5</td>\n",
       "    </tr>\n",
       "    <tr>\n",
       "      <th>25%</th>\n",
       "      <td>0.557511</td>\n",
       "      <td>0.430252</td>\n",
       "      <td>0.478374</td>\n",
       "      <td>0.402726</td>\n",
       "      <td>0.439804</td>\n",
       "      <td>0.442412</td>\n",
       "      <td>0.461923</td>\n",
       "      <td>0.355100</td>\n",
       "      <td>0.794377</td>\n",
       "      <td>0.182687</td>\n",
       "      <td>0.654863</td>\n",
       "      <td>0.250419</td>\n",
       "      <td>0.794377</td>\n",
       "      <td>0.182687</td>\n",
       "      <td>0.526524</td>\n",
       "      <td>0.381896</td>\n",
       "      <td>0.696847</td>\n",
       "      <td>0.238504</td>\n",
       "      <td>0.708669</td>\n",
       "      <td>0.229054</td>\n",
       "      <td>0.484127</td>\n",
       "      <td>0.272952</td>\n",
       "      <td>0.555435</td>\n",
       "      <td>0.410542</td>\n",
       "      <td>0.555002</td>\n",
       "      <td>0.424870</td>\n",
       "      <td>0.5</td>\n",
       "      <td>0.5</td>\n",
       "    </tr>\n",
       "    <tr>\n",
       "      <th>50%</th>\n",
       "      <td>0.558938</td>\n",
       "      <td>0.441062</td>\n",
       "      <td>0.556010</td>\n",
       "      <td>0.443990</td>\n",
       "      <td>0.510581</td>\n",
       "      <td>0.489419</td>\n",
       "      <td>0.561115</td>\n",
       "      <td>0.438885</td>\n",
       "      <td>0.799759</td>\n",
       "      <td>0.200241</td>\n",
       "      <td>0.708527</td>\n",
       "      <td>0.291473</td>\n",
       "      <td>0.799759</td>\n",
       "      <td>0.200241</td>\n",
       "      <td>0.571921</td>\n",
       "      <td>0.428079</td>\n",
       "      <td>0.724166</td>\n",
       "      <td>0.275834</td>\n",
       "      <td>0.753753</td>\n",
       "      <td>0.246247</td>\n",
       "      <td>0.565330</td>\n",
       "      <td>0.434670</td>\n",
       "      <td>0.572043</td>\n",
       "      <td>0.427957</td>\n",
       "      <td>0.559858</td>\n",
       "      <td>0.440142</td>\n",
       "      <td>0.5</td>\n",
       "      <td>0.5</td>\n",
       "    </tr>\n",
       "    <tr>\n",
       "      <th>75%</th>\n",
       "      <td>0.569748</td>\n",
       "      <td>0.442489</td>\n",
       "      <td>0.597274</td>\n",
       "      <td>0.521626</td>\n",
       "      <td>0.557588</td>\n",
       "      <td>0.560196</td>\n",
       "      <td>0.644900</td>\n",
       "      <td>0.538077</td>\n",
       "      <td>0.817313</td>\n",
       "      <td>0.205623</td>\n",
       "      <td>0.749581</td>\n",
       "      <td>0.345137</td>\n",
       "      <td>0.817313</td>\n",
       "      <td>0.205623</td>\n",
       "      <td>0.618104</td>\n",
       "      <td>0.473476</td>\n",
       "      <td>0.761496</td>\n",
       "      <td>0.303153</td>\n",
       "      <td>0.770946</td>\n",
       "      <td>0.291331</td>\n",
       "      <td>0.727048</td>\n",
       "      <td>0.515873</td>\n",
       "      <td>0.589458</td>\n",
       "      <td>0.444565</td>\n",
       "      <td>0.575130</td>\n",
       "      <td>0.444998</td>\n",
       "      <td>0.5</td>\n",
       "      <td>0.5</td>\n",
       "    </tr>\n",
       "    <tr>\n",
       "      <th>max</th>\n",
       "      <td>0.579640</td>\n",
       "      <td>0.448193</td>\n",
       "      <td>0.667383</td>\n",
       "      <td>0.594286</td>\n",
       "      <td>0.587651</td>\n",
       "      <td>0.614360</td>\n",
       "      <td>0.666685</td>\n",
       "      <td>0.713445</td>\n",
       "      <td>0.851425</td>\n",
       "      <td>0.215462</td>\n",
       "      <td>0.858884</td>\n",
       "      <td>0.431346</td>\n",
       "      <td>0.851425</td>\n",
       "      <td>0.215462</td>\n",
       "      <td>0.671958</td>\n",
       "      <td>0.488514</td>\n",
       "      <td>0.772785</td>\n",
       "      <td>0.399817</td>\n",
       "      <td>0.784265</td>\n",
       "      <td>0.367221</td>\n",
       "      <td>0.814145</td>\n",
       "      <td>0.524945</td>\n",
       "      <td>0.602509</td>\n",
       "      <td>0.454147</td>\n",
       "      <td>0.583672</td>\n",
       "      <td>0.463997</td>\n",
       "      <td>0.5</td>\n",
       "      <td>0.5</td>\n",
       "    </tr>\n",
       "  </tbody>\n",
       "</table>\n",
       "</div>"
      ],
      "text/plain": [
       "        GSH (m)  GSH (m+4)  GSSG (m)  GSSG (m+4)  S-Lactoylglutathione (m)  \\\n",
       "count  6.000000   6.000000  6.000000    6.000000                  6.000000   \n",
       "mean   0.563285   0.436715  0.541440    0.458560                  0.497320   \n",
       "std    0.010652   0.010652  0.096637    0.096637                  0.080836   \n",
       "min    0.551807   0.420360  0.405714    0.332617                  0.385640   \n",
       "25%    0.557511   0.430252  0.478374    0.402726                  0.439804   \n",
       "50%    0.558938   0.441062  0.556010    0.443990                  0.510581   \n",
       "75%    0.569748   0.442489  0.597274    0.521626                  0.557588   \n",
       "max    0.579640   0.448193  0.667383    0.594286                  0.587651   \n",
       "\n",
       "       S-Lactoylglutathione (m+4)  S-(Formylmethyl)glutathione (m)  \\\n",
       "count                    6.000000                         6.000000   \n",
       "mean                     0.502680                         0.529526   \n",
       "std                      0.080836                         0.147446   \n",
       "min                      0.412349                         0.286555   \n",
       "25%                      0.442412                         0.461923   \n",
       "50%                      0.489419                         0.561115   \n",
       "75%                      0.560196                         0.644900   \n",
       "max                      0.614360                         0.666685   \n",
       "\n",
       "       S-(Formylmethyl)glutathione (m+4)  G3P Cys (m)  G3P Cys (m+4)  \\\n",
       "count                           6.000000     6.000000       6.000000   \n",
       "mean                            0.470474     0.808538       0.191462   \n",
       "std                             0.147446     0.024534       0.024534   \n",
       "min                             0.333315     0.784538       0.148575   \n",
       "25%                             0.355100     0.794377       0.182687   \n",
       "50%                             0.438885     0.799759       0.200241   \n",
       "75%                             0.538077     0.817313       0.205623   \n",
       "max                             0.713445     0.851425       0.215462   \n",
       "\n",
       "       Cysteine (m)  Cysteine (m+4)  DHAP Cys (m)  DHAP Cys (m+4)  \\\n",
       "count      6.000000        6.000000      6.000000        6.000000   \n",
       "mean       0.707472        0.292528      0.808538        0.191462   \n",
       "std        0.099690        0.099690      0.024534        0.024534   \n",
       "min        0.568654        0.141116      0.784538        0.148575   \n",
       "25%        0.654863        0.250419      0.794377        0.182687   \n",
       "50%        0.708527        0.291473      0.799759        0.200241   \n",
       "75%        0.749581        0.345137      0.817313        0.205623   \n",
       "max        0.858884        0.431346      0.851425        0.215462   \n",
       "\n",
       "       G6P Cys (m)  G6P Cys (m+4)  Succinylcysteine (m)  \\\n",
       "count     6.000000       6.000000              6.000000   \n",
       "mean      0.578696       0.421304              0.713830   \n",
       "std       0.064307       0.064307              0.064384   \n",
       "min       0.511486       0.328042              0.600183   \n",
       "25%       0.526524       0.381896              0.696847   \n",
       "50%       0.571921       0.428079              0.724166   \n",
       "75%       0.618104       0.473476              0.761496   \n",
       "max       0.671958       0.488514              0.772785   \n",
       "\n",
       "       Succinylcysteine (m+4)  Succinylglutathione (m)  \\\n",
       "count                6.000000                 6.000000   \n",
       "mean                 0.286170                 0.732478   \n",
       "std                  0.064384                 0.057698   \n",
       "min                  0.227215                 0.632779   \n",
       "25%                  0.238504                 0.708669   \n",
       "50%                  0.275834                 0.753753   \n",
       "75%                  0.303153                 0.770946   \n",
       "max                  0.399817                 0.784265   \n",
       "\n",
       "       Succinylglutathione (m+4)  Conjugate EC = C3H3O2 (m)  \\\n",
       "count                   6.000000                   6.000000   \n",
       "mean                    0.267522                   0.609646   \n",
       "std                     0.057698                   0.149537   \n",
       "min                     0.215735                   0.475055   \n",
       "25%                     0.229054                   0.484127   \n",
       "50%                     0.246247                   0.565330   \n",
       "75%                     0.291331                   0.727048   \n",
       "max                     0.367221                   0.814145   \n",
       "\n",
       "       Conjugate EC = C3H3O2 (m+4)  Sulfinic glutathione (m)  \\\n",
       "count                     6.000000                  6.000000   \n",
       "mean                      0.390354                  0.572935   \n",
       "std                       0.149537                  0.022523   \n",
       "min                       0.185855                  0.545853   \n",
       "25%                       0.272952                  0.555435   \n",
       "50%                       0.434670                  0.572043   \n",
       "75%                       0.515873                  0.589458   \n",
       "max                       0.524945                  0.602509   \n",
       "\n",
       "       Sulfinic glutathione (m+4)  Cysteinylglycine (m)  \\\n",
       "count                    6.000000              6.000000   \n",
       "mean                     0.427065              0.562166   \n",
       "std                      0.022523              0.017468   \n",
       "min                      0.397491              0.536003   \n",
       "25%                      0.410542              0.555002   \n",
       "50%                      0.427957              0.559858   \n",
       "75%                      0.444565              0.575130   \n",
       "max                      0.454147              0.583672   \n",
       "\n",
       "       Cysteinylglycine (m+4)  GSH conjugate EC = C4H10NO (m)  \\\n",
       "count                6.000000                             6.0   \n",
       "mean                 0.437834                             0.5   \n",
       "std                  0.017468                             0.0   \n",
       "min                  0.416328                             0.5   \n",
       "25%                  0.424870                             0.5   \n",
       "50%                  0.440142                             0.5   \n",
       "75%                  0.444998                             0.5   \n",
       "max                  0.463997                             0.5   \n",
       "\n",
       "       GSH conjugate EC = C4H10NO (m+4)  \n",
       "count                               6.0  \n",
       "mean                                0.5  \n",
       "std                                 0.0  \n",
       "min                                 0.5  \n",
       "25%                                 0.5  \n",
       "50%                                 0.5  \n",
       "75%                                 0.5  \n",
       "max                                 0.5  "
      ]
     },
     "execution_count": 10,
     "metadata": {},
     "output_type": "execute_result"
    }
   ],
   "source": [
    "# Find labelling ratio for known cysteine labelled\n",
    "# compounds in positive polarity:\n",
    "peak_obj.pick_ratio(known_cys_fnam, 'pos', isotope_obj.formula2mass, 'cys', ['m', 'm+4'])"
   ]
  },
  {
   "cell_type": "code",
   "execution_count": 11,
   "metadata": {},
   "outputs": [
    {
     "data": {
      "text/html": [
       "<div>\n",
       "<style scoped>\n",
       "    .dataframe tbody tr th:only-of-type {\n",
       "        vertical-align: middle;\n",
       "    }\n",
       "\n",
       "    .dataframe tbody tr th {\n",
       "        vertical-align: top;\n",
       "    }\n",
       "\n",
       "    .dataframe thead th {\n",
       "        text-align: right;\n",
       "    }\n",
       "</style>\n",
       "<table border=\"1\" class=\"dataframe\">\n",
       "  <thead>\n",
       "    <tr style=\"text-align: right;\">\n",
       "      <th></th>\n",
       "      <th>GSH (m)</th>\n",
       "      <th>GSH (m+4)</th>\n",
       "      <th>S-Lactoylglutathione (m)</th>\n",
       "      <th>S-Lactoylglutathione (m+4)</th>\n",
       "      <th>S-(Formylmethyl)glutathione (m)</th>\n",
       "      <th>S-(Formylmethyl)glutathione (m+4)</th>\n",
       "      <th>G6P Cys (m)</th>\n",
       "      <th>G6P Cys (m+4)</th>\n",
       "      <th>Succinylcysteine (m)</th>\n",
       "      <th>Succinylcysteine (m+4)</th>\n",
       "      <th>Succinylglutathione (m)</th>\n",
       "      <th>Succinylglutathione (m+4)</th>\n",
       "      <th>Conjugate EC = C3H3O2 (m)</th>\n",
       "      <th>Conjugate EC = C3H3O2 (m+4)</th>\n",
       "      <th>Cysteinylglycine (m)</th>\n",
       "      <th>Cysteinylglycine (m+4)</th>\n",
       "    </tr>\n",
       "  </thead>\n",
       "  <tbody>\n",
       "    <tr>\n",
       "      <th>count</th>\n",
       "      <td>6.000000</td>\n",
       "      <td>6.000000</td>\n",
       "      <td>6.000000</td>\n",
       "      <td>6.000000</td>\n",
       "      <td>6.000000</td>\n",
       "      <td>6.000000</td>\n",
       "      <td>6.000000</td>\n",
       "      <td>6.000000</td>\n",
       "      <td>6.000000</td>\n",
       "      <td>6.000000</td>\n",
       "      <td>6.000000</td>\n",
       "      <td>6.000000</td>\n",
       "      <td>6.000000</td>\n",
       "      <td>6.000000</td>\n",
       "      <td>6.000000</td>\n",
       "      <td>6.000000</td>\n",
       "    </tr>\n",
       "    <tr>\n",
       "      <th>mean</th>\n",
       "      <td>0.572853</td>\n",
       "      <td>0.427147</td>\n",
       "      <td>0.880939</td>\n",
       "      <td>0.119061</td>\n",
       "      <td>0.596296</td>\n",
       "      <td>0.403704</td>\n",
       "      <td>0.539176</td>\n",
       "      <td>0.460824</td>\n",
       "      <td>0.650114</td>\n",
       "      <td>0.349886</td>\n",
       "      <td>0.654810</td>\n",
       "      <td>0.345190</td>\n",
       "      <td>0.509071</td>\n",
       "      <td>0.490929</td>\n",
       "      <td>0.516176</td>\n",
       "      <td>0.483824</td>\n",
       "    </tr>\n",
       "    <tr>\n",
       "      <th>std</th>\n",
       "      <td>0.012563</td>\n",
       "      <td>0.012563</td>\n",
       "      <td>0.128598</td>\n",
       "      <td>0.128598</td>\n",
       "      <td>0.036196</td>\n",
       "      <td>0.036196</td>\n",
       "      <td>0.122463</td>\n",
       "      <td>0.122463</td>\n",
       "      <td>0.054375</td>\n",
       "      <td>0.054375</td>\n",
       "      <td>0.050157</td>\n",
       "      <td>0.050157</td>\n",
       "      <td>0.013609</td>\n",
       "      <td>0.013609</td>\n",
       "      <td>0.145430</td>\n",
       "      <td>0.145430</td>\n",
       "    </tr>\n",
       "    <tr>\n",
       "      <th>min</th>\n",
       "      <td>0.556872</td>\n",
       "      <td>0.410746</td>\n",
       "      <td>0.633000</td>\n",
       "      <td>0.015839</td>\n",
       "      <td>0.539460</td>\n",
       "      <td>0.362047</td>\n",
       "      <td>0.415952</td>\n",
       "      <td>0.236359</td>\n",
       "      <td>0.568727</td>\n",
       "      <td>0.268206</td>\n",
       "      <td>0.597395</td>\n",
       "      <td>0.288734</td>\n",
       "      <td>0.490837</td>\n",
       "      <td>0.476107</td>\n",
       "      <td>0.237551</td>\n",
       "      <td>0.338428</td>\n",
       "    </tr>\n",
       "    <tr>\n",
       "      <th>25%</th>\n",
       "      <td>0.563090</td>\n",
       "      <td>0.419038</td>\n",
       "      <td>0.873625</td>\n",
       "      <td>0.053779</td>\n",
       "      <td>0.581102</td>\n",
       "      <td>0.377560</td>\n",
       "      <td>0.465224</td>\n",
       "      <td>0.443352</td>\n",
       "      <td>0.632566</td>\n",
       "      <td>0.326489</td>\n",
       "      <td>0.609619</td>\n",
       "      <td>0.303829</td>\n",
       "      <td>0.498594</td>\n",
       "      <td>0.480081</td>\n",
       "      <td>0.521390</td>\n",
       "      <td>0.422261</td>\n",
       "    </tr>\n",
       "    <tr>\n",
       "      <th>50%</th>\n",
       "      <td>0.574192</td>\n",
       "      <td>0.425808</td>\n",
       "      <td>0.931510</td>\n",
       "      <td>0.068490</td>\n",
       "      <td>0.596730</td>\n",
       "      <td>0.403270</td>\n",
       "      <td>0.519724</td>\n",
       "      <td>0.480276</td>\n",
       "      <td>0.644043</td>\n",
       "      <td>0.355957</td>\n",
       "      <td>0.659359</td>\n",
       "      <td>0.340641</td>\n",
       "      <td>0.511258</td>\n",
       "      <td>0.488742</td>\n",
       "      <td>0.549321</td>\n",
       "      <td>0.450679</td>\n",
       "    </tr>\n",
       "    <tr>\n",
       "      <th>75%</th>\n",
       "      <td>0.580962</td>\n",
       "      <td>0.436910</td>\n",
       "      <td>0.946221</td>\n",
       "      <td>0.126375</td>\n",
       "      <td>0.622440</td>\n",
       "      <td>0.418898</td>\n",
       "      <td>0.556648</td>\n",
       "      <td>0.534776</td>\n",
       "      <td>0.673511</td>\n",
       "      <td>0.367434</td>\n",
       "      <td>0.696171</td>\n",
       "      <td>0.390381</td>\n",
       "      <td>0.519919</td>\n",
       "      <td>0.501406</td>\n",
       "      <td>0.577739</td>\n",
       "      <td>0.478610</td>\n",
       "    </tr>\n",
       "    <tr>\n",
       "      <th>max</th>\n",
       "      <td>0.589254</td>\n",
       "      <td>0.443128</td>\n",
       "      <td>0.984161</td>\n",
       "      <td>0.367000</td>\n",
       "      <td>0.637953</td>\n",
       "      <td>0.460540</td>\n",
       "      <td>0.763641</td>\n",
       "      <td>0.584048</td>\n",
       "      <td>0.731794</td>\n",
       "      <td>0.431273</td>\n",
       "      <td>0.711266</td>\n",
       "      <td>0.402605</td>\n",
       "      <td>0.523893</td>\n",
       "      <td>0.509163</td>\n",
       "      <td>0.661572</td>\n",
       "      <td>0.762449</td>\n",
       "    </tr>\n",
       "  </tbody>\n",
       "</table>\n",
       "</div>"
      ],
      "text/plain": [
       "        GSH (m)  GSH (m+4)  S-Lactoylglutathione (m)  \\\n",
       "count  6.000000   6.000000                  6.000000   \n",
       "mean   0.572853   0.427147                  0.880939   \n",
       "std    0.012563   0.012563                  0.128598   \n",
       "min    0.556872   0.410746                  0.633000   \n",
       "25%    0.563090   0.419038                  0.873625   \n",
       "50%    0.574192   0.425808                  0.931510   \n",
       "75%    0.580962   0.436910                  0.946221   \n",
       "max    0.589254   0.443128                  0.984161   \n",
       "\n",
       "       S-Lactoylglutathione (m+4)  S-(Formylmethyl)glutathione (m)  \\\n",
       "count                    6.000000                         6.000000   \n",
       "mean                     0.119061                         0.596296   \n",
       "std                      0.128598                         0.036196   \n",
       "min                      0.015839                         0.539460   \n",
       "25%                      0.053779                         0.581102   \n",
       "50%                      0.068490                         0.596730   \n",
       "75%                      0.126375                         0.622440   \n",
       "max                      0.367000                         0.637953   \n",
       "\n",
       "       S-(Formylmethyl)glutathione (m+4)  G6P Cys (m)  G6P Cys (m+4)  \\\n",
       "count                           6.000000     6.000000       6.000000   \n",
       "mean                            0.403704     0.539176       0.460824   \n",
       "std                             0.036196     0.122463       0.122463   \n",
       "min                             0.362047     0.415952       0.236359   \n",
       "25%                             0.377560     0.465224       0.443352   \n",
       "50%                             0.403270     0.519724       0.480276   \n",
       "75%                             0.418898     0.556648       0.534776   \n",
       "max                             0.460540     0.763641       0.584048   \n",
       "\n",
       "       Succinylcysteine (m)  Succinylcysteine (m+4)  Succinylglutathione (m)  \\\n",
       "count              6.000000                6.000000                 6.000000   \n",
       "mean               0.650114                0.349886                 0.654810   \n",
       "std                0.054375                0.054375                 0.050157   \n",
       "min                0.568727                0.268206                 0.597395   \n",
       "25%                0.632566                0.326489                 0.609619   \n",
       "50%                0.644043                0.355957                 0.659359   \n",
       "75%                0.673511                0.367434                 0.696171   \n",
       "max                0.731794                0.431273                 0.711266   \n",
       "\n",
       "       Succinylglutathione (m+4)  Conjugate EC = C3H3O2 (m)  \\\n",
       "count                   6.000000                   6.000000   \n",
       "mean                    0.345190                   0.509071   \n",
       "std                     0.050157                   0.013609   \n",
       "min                     0.288734                   0.490837   \n",
       "25%                     0.303829                   0.498594   \n",
       "50%                     0.340641                   0.511258   \n",
       "75%                     0.390381                   0.519919   \n",
       "max                     0.402605                   0.523893   \n",
       "\n",
       "       Conjugate EC = C3H3O2 (m+4)  Cysteinylglycine (m)  \\\n",
       "count                     6.000000              6.000000   \n",
       "mean                      0.490929              0.516176   \n",
       "std                       0.013609              0.145430   \n",
       "min                       0.476107              0.237551   \n",
       "25%                       0.480081              0.521390   \n",
       "50%                       0.488742              0.549321   \n",
       "75%                       0.501406              0.577739   \n",
       "max                       0.509163              0.661572   \n",
       "\n",
       "       Cysteinylglycine (m+4)  \n",
       "count                6.000000  \n",
       "mean                 0.483824  \n",
       "std                  0.145430  \n",
       "min                  0.338428  \n",
       "25%                  0.422261  \n",
       "50%                  0.450679  \n",
       "75%                  0.478610  \n",
       "max                  0.762449  "
      ]
     },
     "execution_count": 11,
     "metadata": {},
     "output_type": "execute_result"
    }
   ],
   "source": [
    "# Find labelling ratio for known cysteine labelled\n",
    "# compounds in negative polarity:\n",
    "peak_obj.pick_ratio(known_cys_fnam, 'neg', isotope_obj.formula2mass, 'cys', ['m', 'm+4'])"
   ]
  },
  {
   "cell_type": "code",
   "execution_count": 12,
   "metadata": {},
   "outputs": [],
   "source": [
    "# Based on above analysis the cutoff is chosen:\n",
    "peak_obj.params['area_ratio_cutoff']['cys'] = ((0.05, 0.70),)\n",
    "\n",
    "# RT and MW tolerances are also adjusted:\n",
    "peak_obj.params['pair_ppm_tol'] = 3\n",
    "peak_obj.params['pair_RT_tol'] = 0.5"
   ]
  },
  {
   "cell_type": "code",
   "execution_count": null,
   "metadata": {},
   "outputs": [],
   "source": []
  },
  {
   "cell_type": "markdown",
   "metadata": {},
   "source": [
    "### Search for peak pairs and flag isotopes, adducts etc"
   ]
  },
  {
   "cell_type": "code",
   "execution_count": 13,
   "metadata": {},
   "outputs": [],
   "source": [
    "# Find pairs:\n",
    "peak_obj.find_pairs('pos')\n",
    "peak_obj.find_pairs('neg')"
   ]
  },
  {
   "cell_type": "code",
   "execution_count": 14,
   "metadata": {},
   "outputs": [],
   "source": [
    "# Flag inferred adducts and blacklisted compounds\n",
    "# in the peak pairs:\n",
    "peak_obj.flag_blacklist(blacklist_fnam, polarity='both')\n",
    "peak_obj.flag_adducts(adducts_fnam, polarity='both')"
   ]
  },
  {
   "cell_type": "code",
   "execution_count": 15,
   "metadata": {},
   "outputs": [
    {
     "name": "stdout",
     "output_type": "stream",
     "text": [
      "{('[13]C',): {'abundance': 0.010599999999999998,\n",
      "              'mass_shift': 1.0033548353399997},\n",
      " ('[13]C', '[13]C'): {'abundance': 0.00011235999999999996,\n",
      "                      'mass_shift': 2.0067096706799994},\n",
      " ('[13]C', '[13]C', '[13]C'): {'abundance': 1.1910159999999995e-06,\n",
      "                               'mass_shift': 3.010064506020001},\n",
      " ('[13]C', '[13]C', '[34]S'): {'abundance': 4.9045139999999985e-06,\n",
      "                               'mass_shift': 4.00250550813999},\n",
      " ('[13]C', '[15]N'): {'abundance': 4.022699999999999e-05,\n",
      "                      'mass_shift': 2.000389729360002},\n",
      " ('[13]C', '[15]N', '[34]S'): {'abundance': 1.7559085499999997e-06,\n",
      "                               'mass_shift': 3.996185566820003},\n",
      " ('[13]C', '[17]O'): {'abundance': 4.065099999999999e-06,\n",
      "                      'mass_shift': 2.00757197203},\n",
      " ('[13]C', '[18]O'): {'abundance': 2.1676999999999996e-05,\n",
      "                      'mass_shift': 3.007599828220002},\n",
      " ('[13]C', '[2]H'): {'abundance': 1.5369999999999999e-06,\n",
      "                     'mass_shift': 2.0096315812859995},\n",
      " ('[13]C', '[33]S'): {'abundance': 8.087799999999998e-05,\n",
      "                      'mass_shift': 2.002742570419997},\n",
      " ('[13]C', '[33]S', '[34]S'): {'abundance': 3.5303246999999993e-06,\n",
      "                               'mass_shift': 3.998538407879991},\n",
      " ('[13]C', '[34]S'): {'abundance': 0.0004626899999999999,\n",
      "                      'mass_shift': 2.999150672799992},\n",
      " ('[13]C', '[34]S', '[34]S'): {'abundance': 2.0196418499999996e-05,\n",
      "                               'mass_shift': 4.994946510259979},\n",
      " ('[13]C', '[36]S'): {'abundance': 1.6747999999999996e-06,\n",
      "                      'mass_shift': 4.998364353799992},\n",
      " ('[15]N',): {'abundance': 0.0037949999999999998,\n",
      "              'mass_shift': 0.9970348940200022},\n",
      " ('[15]N', '[15]N'): {'abundance': 1.4402024999999999e-05,\n",
      "                      'mass_shift': 1.9940697880400045},\n",
      " ('[15]N', '[17]O'): {'abundance': 1.4553825e-06,\n",
      "                      'mass_shift': 2.0012520307100026},\n",
      " ('[15]N', '[18]O'): {'abundance': 7.760774999999999e-06,\n",
      "                      'mass_shift': 3.0012798869000044},\n",
      " ('[15]N', '[33]S'): {'abundance': 2.8955849999999998e-05,\n",
      "                      'mass_shift': 1.9964226291000031},\n",
      " ('[15]N', '[33]S', '[34]S'): {'abundance': 1.2639228525e-06,\n",
      "                               'mass_shift': 3.9922184665600042},\n",
      " ('[15]N', '[34]S'): {'abundance': 0.00016565175,\n",
      "                      'mass_shift': 2.992830731479998},\n",
      " ('[15]N', '[34]S', '[34]S'): {'abundance': 7.2306988875e-06,\n",
      "                               'mass_shift': 4.988626568939992},\n",
      " ('[17]O',): {'abundance': 0.0003835,\n",
      "              'mass_shift': 1.0042171366899986},\n",
      " ('[17]O', '[33]S'): {'abundance': 2.9261049999999997e-06,\n",
      "                      'mass_shift': 2.003604871769994},\n",
      " ('[17]O', '[34]S'): {'abundance': 1.6739775e-05,\n",
      "                      'mass_shift': 3.000012974149996},\n",
      " ('[18]O',): {'abundance': 0.002045,\n",
      "              'mass_shift': 2.0042449928800004},\n",
      " ('[18]O', '[18]O'): {'abundance': 4.182025e-06,\n",
      "                      'mass_shift': 4.008489985760001},\n",
      " ('[18]O', '[33]S'): {'abundance': 1.560335e-05,\n",
      "                      'mass_shift': 3.003632727959996},\n",
      " ('[18]O', '[34]S'): {'abundance': 8.926425e-05,\n",
      "                      'mass_shift': 4.000040830339998},\n",
      " ('[18]O', '[34]S', '[34]S'): {'abundance': 3.8963845125e-06,\n",
      "                               'mass_shift': 5.995836667799992},\n",
      " ('[2]H',): {'abundance': 0.000145,\n",
      "             'mass_shift': 1.006276745946},\n",
      " ('[2]H', '[33]S'): {'abundance': 1.10635e-06,\n",
      "                     'mass_shift': 2.0056644810259954},\n",
      " ('[2]H', '[34]S'): {'abundance': 6.3292500000000004e-06,\n",
      "                     'mass_shift': 3.0020725834059903},\n",
      " ('[33]S',): {'abundance': 0.00763,\n",
      "              'mass_shift': 0.9993877350799991},\n",
      " ('[33]S', '[33]S'): {'abundance': 5.8216899999999995e-05,\n",
      "                      'mass_shift': 1.9987754701599982},\n",
      " ('[33]S', '[33]S', '[34]S'): {'abundance': 2.541167685e-06,\n",
      "                               'mass_shift': 3.9945713076199922},\n",
      " ('[33]S', '[34]S'): {'abundance': 0.0003330495,\n",
      "                      'mass_shift': 2.995183572539986},\n",
      " ('[33]S', '[34]S', '[34]S'): {'abundance': 1.4537610675e-05,\n",
      "                               'mass_shift': 4.99097940999998},\n",
      " ('[33]S', '[36]S'): {'abundance': 1.20554e-06,\n",
      "                      'mass_shift': 4.994397253540001},\n",
      " ('[34]S',): {'abundance': 0.04365,\n",
      "              'mass_shift': 1.995795837459994},\n",
      " ('[34]S', '[34]S'): {'abundance': 0.0019053225,\n",
      "                      'mass_shift': 3.991591674919988},\n",
      " ('[34]S', '[34]S', '[34]S'): {'abundance': 8.3167327125e-05,\n",
      "                               'mass_shift': 5.987387512379982},\n",
      " ('[34]S', '[34]S', '[34]S', '[34]S'): {'abundance': 3.63025382900625e-06,\n",
      "                                        'mass_shift': 7.983183349839976},\n",
      " ('[34]S', '[36]S'): {'abundance': 6.8966999999999995e-06,\n",
      "                      'mass_shift': 5.9908053559199885},\n",
      " ('[36]S',): {'abundance': 0.000158,\n",
      "              'mass_shift': 3.9950095184599945}}\n"
     ]
    }
   ],
   "source": [
    "# Generate isotopic mass shift combinations:\n",
    "isotope_set = isotope_obj.find_iso_set(min_abs=1e-6)\n",
    "pp.pprint(isotope_set)"
   ]
  },
  {
   "cell_type": "code",
   "execution_count": 16,
   "metadata": {},
   "outputs": [],
   "source": [
    "# Flag isotopes in the peak pairs:\n",
    "peak_obj.flag_isotopes(isotope_set, polarity='both')"
   ]
  },
  {
   "cell_type": "code",
   "execution_count": null,
   "metadata": {},
   "outputs": [],
   "source": []
  },
  {
   "cell_type": "markdown",
   "metadata": {},
   "source": [
    "The samples have been labelled with both cystine and glutamine.\n",
    "Both trace into glutathione and it's derivatives.\n",
    "Thus, it is usefull to know which peak pairs are found\n",
    "for both labels."
   ]
  },
  {
   "cell_type": "code",
   "execution_count": 17,
   "metadata": {},
   "outputs": [],
   "source": [
    "# Flag the label intersection:\n",
    "peak_obj.flag_labels()"
   ]
  },
  {
   "cell_type": "code",
   "execution_count": null,
   "metadata": {},
   "outputs": [],
   "source": []
  },
  {
   "cell_type": "code",
   "execution_count": 18,
   "metadata": {},
   "outputs": [],
   "source": [
    "# Write results as Excel files:\n",
    "peak_obj.write_pairs('projects/three-cell-lines/pos/three-cell-lines_cys-gln-tracing_pairs_pos', 'pos')\n",
    "peak_obj.write_pairs('projects/three-cell-lines/neg/three-cell-lines_cys-gln-tracing_pairs_neg', 'neg')"
   ]
  },
  {
   "cell_type": "code",
   "execution_count": null,
   "metadata": {},
   "outputs": [],
   "source": []
  },
  {
   "cell_type": "code",
   "execution_count": null,
   "metadata": {},
   "outputs": [],
   "source": []
  },
  {
   "cell_type": "markdown",
   "metadata": {},
   "source": [
    "### Processing the results\n",
    "\n",
    "At this point, all the results have been written to Excel files which provide an interface to further processing/filtering/plotting.\n",
    "\n",
    "In the following, I will show another way of processing the results and show some of the findings that can be extracted from the data."
   ]
  },
  {
   "cell_type": "code",
   "execution_count": 19,
   "metadata": {},
   "outputs": [
    {
     "data": {
      "text/html": [
       "<div>\n",
       "<style scoped>\n",
       "    .dataframe tbody tr th:only-of-type {\n",
       "        vertical-align: middle;\n",
       "    }\n",
       "\n",
       "    .dataframe tbody tr th {\n",
       "        vertical-align: top;\n",
       "    }\n",
       "\n",
       "    .dataframe thead th {\n",
       "        text-align: right;\n",
       "    }\n",
       "</style>\n",
       "<table border=\"1\" class=\"dataframe\">\n",
       "  <thead>\n",
       "    <tr style=\"text-align: right;\">\n",
       "      <th></th>\n",
       "      <th>name</th>\n",
       "      <th>order</th>\n",
       "      <th>type</th>\n",
       "      <th>label</th>\n",
       "      <th>group</th>\n",
       "      <th>Cell_line</th>\n",
       "      <th>Treatment</th>\n",
       "    </tr>\n",
       "  </thead>\n",
       "  <tbody>\n",
       "    <tr>\n",
       "      <th>B16_vec_1</th>\n",
       "      <td>B16_vec_1</td>\n",
       "      <td>1</td>\n",
       "      <td>sample</td>\n",
       "      <td>None</td>\n",
       "      <td>B16F10, Vehicle</td>\n",
       "      <td>B16F10</td>\n",
       "      <td>Vehicle</td>\n",
       "    </tr>\n",
       "    <tr>\n",
       "      <th>B16_BSO_1</th>\n",
       "      <td>B16_BSO_1</td>\n",
       "      <td>7</td>\n",
       "      <td>sample</td>\n",
       "      <td>None</td>\n",
       "      <td>B16F10, BSO</td>\n",
       "      <td>B16F10</td>\n",
       "      <td>BSO</td>\n",
       "    </tr>\n",
       "    <tr>\n",
       "      <th>B16_Cys_1</th>\n",
       "      <td>B16_Cys_1</td>\n",
       "      <td>3</td>\n",
       "      <td>sample</td>\n",
       "      <td>cys</td>\n",
       "      <td>B16F10, Cys</td>\n",
       "      <td>B16F10</td>\n",
       "      <td>Cys</td>\n",
       "    </tr>\n",
       "    <tr>\n",
       "      <th>B16_Gln_1</th>\n",
       "      <td>B16_Gln_1</td>\n",
       "      <td>5</td>\n",
       "      <td>sample</td>\n",
       "      <td>gln</td>\n",
       "      <td>B16F10, Gln</td>\n",
       "      <td>B16F10</td>\n",
       "      <td>Gln</td>\n",
       "    </tr>\n",
       "  </tbody>\n",
       "</table>\n",
       "</div>"
      ],
      "text/plain": [
       "                name  order    type label            group Cell_line Treatment\n",
       "B16_vec_1  B16_vec_1      1  sample  None  B16F10, Vehicle    B16F10   Vehicle\n",
       "B16_BSO_1  B16_BSO_1      7  sample  None      B16F10, BSO    B16F10       BSO\n",
       "B16_Cys_1  B16_Cys_1      3  sample   cys      B16F10, Cys    B16F10       Cys\n",
       "B16_Gln_1  B16_Gln_1      5  sample   gln      B16F10, Gln    B16F10       Gln"
      ]
     },
     "execution_count": 19,
     "metadata": {},
     "output_type": "execute_result"
    }
   ],
   "source": [
    "# Extract sample information from the input description JSON\n",
    "# stored in the \"group\" tag:\n",
    "name2info = {desc['name']: desc for desc in input_desc.values() if desc['type'] != 'blank'}\n",
    "sample_info_df = pd.DataFrame.from_dict(name2info, orient='index')\n",
    "sample_info_df[['Cell_line','Treatment']] = sample_info_df.group.str.split(', ', expand=True)\n",
    "sample_info_df.head(4)"
   ]
  },
  {
   "cell_type": "code",
   "execution_count": 20,
   "metadata": {},
   "outputs": [
    {
     "data": {
      "text/html": [
       "<div>\n",
       "<style scoped>\n",
       "    .dataframe tbody tr th:only-of-type {\n",
       "        vertical-align: middle;\n",
       "    }\n",
       "\n",
       "    .dataframe tbody tr th {\n",
       "        vertical-align: top;\n",
       "    }\n",
       "\n",
       "    .dataframe thead th {\n",
       "        text-align: right;\n",
       "    }\n",
       "</style>\n",
       "<table border=\"1\" class=\"dataframe\">\n",
       "  <thead>\n",
       "    <tr style=\"text-align: right;\">\n",
       "      <th></th>\n",
       "      <th>pair_id</th>\n",
       "      <th>MW_parent</th>\n",
       "      <th>RT_parent</th>\n",
       "      <th>MW_heavy</th>\n",
       "      <th>RT_heavy</th>\n",
       "      <th>polarity</th>\n",
       "      <th>label</th>\n",
       "      <th>name</th>\n",
       "      <th>RT_diff</th>\n",
       "      <th>MW_ppm_diff</th>\n",
       "      <th>Label_set</th>\n",
       "      <th>Isotopes</th>\n",
       "      <th>Adducts</th>\n",
       "      <th>Blacklist</th>\n",
       "      <th>known_anno</th>\n",
       "      <th>B16_vec_1</th>\n",
       "      <th>B16_vec_2</th>\n",
       "      <th>B16_Cys_1</th>\n",
       "      <th>B16_Cys_2</th>\n",
       "      <th>B16_Gln_1</th>\n",
       "      <th>B16_Gln_2</th>\n",
       "      <th>B16_BSO_1</th>\n",
       "      <th>B16_BSO_2</th>\n",
       "      <th>B16_BSO_GSH-AB_1</th>\n",
       "      <th>B16_BSO_GSH-AB_2</th>\n",
       "      <th>HCT116_vec_1</th>\n",
       "      <th>HCT116_vec_2</th>\n",
       "      <th>HCT116_Cys_1</th>\n",
       "      <th>HCT116_Cys_2</th>\n",
       "      <th>HCT116_Gln_1</th>\n",
       "      <th>HCT116_Gln_2</th>\n",
       "      <th>HCT116_BSO_1</th>\n",
       "      <th>HCT116_BSO_2</th>\n",
       "      <th>HCT116_BSO_GSH-AB_1</th>\n",
       "      <th>HCT116_BSO_GSH-AB_2</th>\n",
       "      <th>HUH7_vec_1</th>\n",
       "      <th>HUH7_vec_2</th>\n",
       "      <th>HUH7_Cys_1</th>\n",
       "      <th>HUH7_Cys_2</th>\n",
       "      <th>HUH7_Gln_1</th>\n",
       "      <th>HUH7_Gln_2</th>\n",
       "      <th>HUH7_BSO_1</th>\n",
       "      <th>HUH7_BSO_2</th>\n",
       "      <th>HUH7_BSO_GSH-AB_1</th>\n",
       "      <th>HUH7_BSO_GSH-AB_2</th>\n",
       "    </tr>\n",
       "  </thead>\n",
       "  <tbody>\n",
       "    <tr>\n",
       "      <th>0</th>\n",
       "      <td>((121.01988, 8.626), (125.02709, 8.621), pos, ...</td>\n",
       "      <td>121.02</td>\n",
       "      <td>8.626</td>\n",
       "      <td>125.027</td>\n",
       "      <td>8.621</td>\n",
       "      <td>pos</td>\n",
       "      <td>cys</td>\n",
       "      <td>Cysteine</td>\n",
       "      <td>0.005</td>\n",
       "      <td>0.913899</td>\n",
       "      <td>cys</td>\n",
       "      <td>None</td>\n",
       "      <td>[(145, M+3H)]</td>\n",
       "      <td>None</td>\n",
       "      <td>Cysteine</td>\n",
       "      <td>3289</td>\n",
       "      <td>3416.65</td>\n",
       "      <td>3502.25</td>\n",
       "      <td>3802.48</td>\n",
       "      <td>3100.25</td>\n",
       "      <td>3113.58</td>\n",
       "      <td>3067.26</td>\n",
       "      <td>3252.22</td>\n",
       "      <td>7520.4</td>\n",
       "      <td>3094.7</td>\n",
       "      <td>20872.4</td>\n",
       "      <td>29798.7</td>\n",
       "      <td>9347.14</td>\n",
       "      <td>16258.3</td>\n",
       "      <td>8852.81</td>\n",
       "      <td>23428.9</td>\n",
       "      <td>40516.9</td>\n",
       "      <td>50972.7</td>\n",
       "      <td>45864</td>\n",
       "      <td>62086.1</td>\n",
       "      <td>1865.2</td>\n",
       "      <td>1887.71</td>\n",
       "      <td>1919.78</td>\n",
       "      <td>1828.98</td>\n",
       "      <td>1709.48</td>\n",
       "      <td>1803.33</td>\n",
       "      <td>1604.17</td>\n",
       "      <td>1641.06</td>\n",
       "      <td>2782.43</td>\n",
       "      <td>1610.52</td>\n",
       "    </tr>\n",
       "    <tr>\n",
       "      <th>1</th>\n",
       "      <td>((123.10496, 2.261), (127.11236, 2.464), pos, ...</td>\n",
       "      <td>123.105</td>\n",
       "      <td>2.261</td>\n",
       "      <td>127.112</td>\n",
       "      <td>2.464</td>\n",
       "      <td>pos</td>\n",
       "      <td>cys</td>\n",
       "      <td>NaN</td>\n",
       "      <td>0.203</td>\n",
       "      <td>2.44182</td>\n",
       "      <td>cys</td>\n",
       "      <td>None</td>\n",
       "      <td>None</td>\n",
       "      <td>None</td>\n",
       "      <td>None</td>\n",
       "      <td>2300.86</td>\n",
       "      <td>2487.51</td>\n",
       "      <td>19560.3</td>\n",
       "      <td>1682.29</td>\n",
       "      <td>3657.04</td>\n",
       "      <td>6873.61</td>\n",
       "      <td>3175.18</td>\n",
       "      <td>4712.72</td>\n",
       "      <td>5859.27</td>\n",
       "      <td>9518.89</td>\n",
       "      <td>3402.81</td>\n",
       "      <td>4586.02</td>\n",
       "      <td>6273.98</td>\n",
       "      <td>10089</td>\n",
       "      <td>29777.2</td>\n",
       "      <td>7406.01</td>\n",
       "      <td>2625.94</td>\n",
       "      <td>2858.97</td>\n",
       "      <td>4735.07</td>\n",
       "      <td>8793.88</td>\n",
       "      <td>43756.6</td>\n",
       "      <td>29922.5</td>\n",
       "      <td>12436.6</td>\n",
       "      <td>25127.5</td>\n",
       "      <td>10823.7</td>\n",
       "      <td>10036.4</td>\n",
       "      <td>2827.78</td>\n",
       "      <td>8629.88</td>\n",
       "      <td>8095.81</td>\n",
       "      <td>19289.4</td>\n",
       "    </tr>\n",
       "    <tr>\n",
       "      <th>2</th>\n",
       "      <td>((123.10499, 2.72), (127.11236, 2.464), pos, cys)</td>\n",
       "      <td>123.105</td>\n",
       "      <td>2.72</td>\n",
       "      <td>127.112</td>\n",
       "      <td>2.464</td>\n",
       "      <td>pos</td>\n",
       "      <td>cys</td>\n",
       "      <td>NaN</td>\n",
       "      <td>0.256</td>\n",
       "      <td>2.19812</td>\n",
       "      <td>cys</td>\n",
       "      <td>None</td>\n",
       "      <td>None</td>\n",
       "      <td>None</td>\n",
       "      <td>None</td>\n",
       "      <td>23223.2</td>\n",
       "      <td>18922.2</td>\n",
       "      <td>16021.7</td>\n",
       "      <td>19794.6</td>\n",
       "      <td>14338.8</td>\n",
       "      <td>15069.3</td>\n",
       "      <td>13056.7</td>\n",
       "      <td>41215.6</td>\n",
       "      <td>16289.6</td>\n",
       "      <td>26411.4</td>\n",
       "      <td>22442.9</td>\n",
       "      <td>24807.1</td>\n",
       "      <td>20384.6</td>\n",
       "      <td>35471.7</td>\n",
       "      <td>25075.3</td>\n",
       "      <td>32702.8</td>\n",
       "      <td>16156.7</td>\n",
       "      <td>25334.3</td>\n",
       "      <td>18785.3</td>\n",
       "      <td>28040.2</td>\n",
       "      <td>27175.1</td>\n",
       "      <td>33281.9</td>\n",
       "      <td>25823.1</td>\n",
       "      <td>46188</td>\n",
       "      <td>44455.2</td>\n",
       "      <td>28382.1</td>\n",
       "      <td>55938.5</td>\n",
       "      <td>43695</td>\n",
       "      <td>59837</td>\n",
       "      <td>39068.3</td>\n",
       "    </tr>\n",
       "    <tr>\n",
       "      <th>3</th>\n",
       "      <td>((125.04782, 9.962), (129.05504, 9.871), pos, ...</td>\n",
       "      <td>125.048</td>\n",
       "      <td>9.962</td>\n",
       "      <td>129.055</td>\n",
       "      <td>9.871</td>\n",
       "      <td>pos</td>\n",
       "      <td>cys</td>\n",
       "      <td>3-Hydroxyaminophenol</td>\n",
       "      <td>0.091</td>\n",
       "      <td>0.964431</td>\n",
       "      <td>cys</td>\n",
       "      <td>None</td>\n",
       "      <td>[(65, M+H+Na)]</td>\n",
       "      <td>None</td>\n",
       "      <td>None</td>\n",
       "      <td>1726.17</td>\n",
       "      <td>6651.57</td>\n",
       "      <td>8931.28</td>\n",
       "      <td>984.772</td>\n",
       "      <td>10873.8</td>\n",
       "      <td>12597.1</td>\n",
       "      <td>1246.81</td>\n",
       "      <td>4478.83</td>\n",
       "      <td>11370.1</td>\n",
       "      <td>6175.17</td>\n",
       "      <td>899.693</td>\n",
       "      <td>941.542</td>\n",
       "      <td>913.134</td>\n",
       "      <td>966.003</td>\n",
       "      <td>1054.84</td>\n",
       "      <td>1081.71</td>\n",
       "      <td>862.098</td>\n",
       "      <td>909.338</td>\n",
       "      <td>936.735</td>\n",
       "      <td>1014.85</td>\n",
       "      <td>426.196</td>\n",
       "      <td>395.396</td>\n",
       "      <td>367.315</td>\n",
       "      <td>355.383</td>\n",
       "      <td>449.685</td>\n",
       "      <td>391.076</td>\n",
       "      <td>232.556</td>\n",
       "      <td>557.212</td>\n",
       "      <td>1860.26</td>\n",
       "      <td>1580.24</td>\n",
       "    </tr>\n",
       "  </tbody>\n",
       "</table>\n",
       "</div>"
      ],
      "text/plain": [
       "                                             pair_id MW_parent RT_parent  \\\n",
       "0  ((121.01988, 8.626), (125.02709, 8.621), pos, ...    121.02     8.626   \n",
       "1  ((123.10496, 2.261), (127.11236, 2.464), pos, ...   123.105     2.261   \n",
       "2  ((123.10499, 2.72), (127.11236, 2.464), pos, cys)   123.105      2.72   \n",
       "3  ((125.04782, 9.962), (129.05504, 9.871), pos, ...   125.048     9.962   \n",
       "\n",
       "  MW_heavy RT_heavy polarity label                  name RT_diff MW_ppm_diff  \\\n",
       "0  125.027    8.621      pos   cys              Cysteine   0.005    0.913899   \n",
       "1  127.112    2.464      pos   cys                   NaN   0.203     2.44182   \n",
       "2  127.112    2.464      pos   cys                   NaN   0.256     2.19812   \n",
       "3  129.055    9.871      pos   cys  3-Hydroxyaminophenol   0.091    0.964431   \n",
       "\n",
       "  Label_set Isotopes         Adducts Blacklist known_anno B16_vec_1 B16_vec_2  \\\n",
       "0       cys     None   [(145, M+3H)]      None   Cysteine      3289   3416.65   \n",
       "1       cys     None            None      None       None   2300.86   2487.51   \n",
       "2       cys     None            None      None       None   23223.2   18922.2   \n",
       "3       cys     None  [(65, M+H+Na)]      None       None   1726.17   6651.57   \n",
       "\n",
       "  B16_Cys_1 B16_Cys_2 B16_Gln_1 B16_Gln_2 B16_BSO_1 B16_BSO_2  \\\n",
       "0   3502.25   3802.48   3100.25   3113.58   3067.26   3252.22   \n",
       "1   19560.3   1682.29   3657.04   6873.61   3175.18   4712.72   \n",
       "2   16021.7   19794.6   14338.8   15069.3   13056.7   41215.6   \n",
       "3   8931.28   984.772   10873.8   12597.1   1246.81   4478.83   \n",
       "\n",
       "  B16_BSO_GSH-AB_1 B16_BSO_GSH-AB_2 HCT116_vec_1 HCT116_vec_2 HCT116_Cys_1  \\\n",
       "0           7520.4           3094.7      20872.4      29798.7      9347.14   \n",
       "1          5859.27          9518.89      3402.81      4586.02      6273.98   \n",
       "2          16289.6          26411.4      22442.9      24807.1      20384.6   \n",
       "3          11370.1          6175.17      899.693      941.542      913.134   \n",
       "\n",
       "  HCT116_Cys_2 HCT116_Gln_1 HCT116_Gln_2 HCT116_BSO_1 HCT116_BSO_2  \\\n",
       "0      16258.3      8852.81      23428.9      40516.9      50972.7   \n",
       "1        10089      29777.2      7406.01      2625.94      2858.97   \n",
       "2      35471.7      25075.3      32702.8      16156.7      25334.3   \n",
       "3      966.003      1054.84      1081.71      862.098      909.338   \n",
       "\n",
       "  HCT116_BSO_GSH-AB_1 HCT116_BSO_GSH-AB_2 HUH7_vec_1 HUH7_vec_2 HUH7_Cys_1  \\\n",
       "0               45864             62086.1     1865.2    1887.71    1919.78   \n",
       "1             4735.07             8793.88    43756.6    29922.5    12436.6   \n",
       "2             18785.3             28040.2    27175.1    33281.9    25823.1   \n",
       "3             936.735             1014.85    426.196    395.396    367.315   \n",
       "\n",
       "  HUH7_Cys_2 HUH7_Gln_1 HUH7_Gln_2 HUH7_BSO_1 HUH7_BSO_2 HUH7_BSO_GSH-AB_1  \\\n",
       "0    1828.98    1709.48    1803.33    1604.17    1641.06           2782.43   \n",
       "1    25127.5    10823.7    10036.4    2827.78    8629.88           8095.81   \n",
       "2      46188    44455.2    28382.1    55938.5      43695             59837   \n",
       "3    355.383    449.685    391.076    232.556    557.212           1860.26   \n",
       "\n",
       "  HUH7_BSO_GSH-AB_2  \n",
       "0           1610.52  \n",
       "1           19289.4  \n",
       "2           39068.3  \n",
       "3           1580.24  "
      ]
     },
     "execution_count": 20,
     "metadata": {},
     "output_type": "execute_result"
    }
   ],
   "source": [
    "# We start in positive polarity by grabbing the peak pairs from cystine tracing:\n",
    "df_pos = peak_obj.label_pairs['cys']['pos']['peak_pair_area_parent'].copy()\n",
    "df_pos.head(4)"
   ]
  },
  {
   "cell_type": "code",
   "execution_count": 21,
   "metadata": {},
   "outputs": [
    {
     "data": {
      "text/html": [
       "<div>\n",
       "<style scoped>\n",
       "    .dataframe tbody tr th:only-of-type {\n",
       "        vertical-align: middle;\n",
       "    }\n",
       "\n",
       "    .dataframe tbody tr th {\n",
       "        vertical-align: top;\n",
       "    }\n",
       "\n",
       "    .dataframe thead th {\n",
       "        text-align: right;\n",
       "    }\n",
       "</style>\n",
       "<table border=\"1\" class=\"dataframe\">\n",
       "  <thead>\n",
       "    <tr style=\"text-align: right;\">\n",
       "      <th></th>\n",
       "      <th>MW_parent</th>\n",
       "      <th>RT_parent</th>\n",
       "      <th>Adducts</th>\n",
       "      <th>Label_set</th>\n",
       "      <th>known_anno</th>\n",
       "      <th>sample</th>\n",
       "      <th>area</th>\n",
       "      <th>MW_RT_anno</th>\n",
       "      <th>Cell_line</th>\n",
       "      <th>Treatment</th>\n",
       "    </tr>\n",
       "  </thead>\n",
       "  <tbody>\n",
       "    <tr>\n",
       "      <th>0</th>\n",
       "      <td>121.02</td>\n",
       "      <td>8.626</td>\n",
       "      <td>[(145, M+3H)]</td>\n",
       "      <td>cys</td>\n",
       "      <td>Cysteine</td>\n",
       "      <td>B16_vec_1</td>\n",
       "      <td>3289</td>\n",
       "      <td>121.01988_8.626_Cysteine</td>\n",
       "      <td>B16F10</td>\n",
       "      <td>Vehicle</td>\n",
       "    </tr>\n",
       "    <tr>\n",
       "      <th>1</th>\n",
       "      <td>123.105</td>\n",
       "      <td>2.261</td>\n",
       "      <td>None</td>\n",
       "      <td>cys</td>\n",
       "      <td>None</td>\n",
       "      <td>B16_vec_1</td>\n",
       "      <td>2300.86</td>\n",
       "      <td>123.10496_2.261_None</td>\n",
       "      <td>B16F10</td>\n",
       "      <td>Vehicle</td>\n",
       "    </tr>\n",
       "    <tr>\n",
       "      <th>2</th>\n",
       "      <td>123.105</td>\n",
       "      <td>2.72</td>\n",
       "      <td>None</td>\n",
       "      <td>cys</td>\n",
       "      <td>None</td>\n",
       "      <td>B16_vec_1</td>\n",
       "      <td>23223.2</td>\n",
       "      <td>123.10499_2.72_None</td>\n",
       "      <td>B16F10</td>\n",
       "      <td>Vehicle</td>\n",
       "    </tr>\n",
       "  </tbody>\n",
       "</table>\n",
       "</div>"
      ],
      "text/plain": [
       "  MW_parent RT_parent        Adducts Label_set known_anno     sample     area  \\\n",
       "0    121.02     8.626  [(145, M+3H)]       cys   Cysteine  B16_vec_1     3289   \n",
       "1   123.105     2.261           None       cys       None  B16_vec_1  2300.86   \n",
       "2   123.105      2.72           None       cys       None  B16_vec_1  23223.2   \n",
       "\n",
       "                 MW_RT_anno Cell_line Treatment  \n",
       "0  121.01988_8.626_Cysteine    B16F10   Vehicle  \n",
       "1      123.10496_2.261_None    B16F10   Vehicle  \n",
       "2       123.10499_2.72_None    B16F10   Vehicle  "
      ]
     },
     "execution_count": 21,
     "metadata": {},
     "output_type": "execute_result"
    }
   ],
   "source": [
    "def flat_df(df_pol, sample_info_df):\n",
    "    # Now let's get rid of the adducts, isotopes and blacklisted peaks:\n",
    "    mask = (df_pol['Isotopes'].isnull() & df_pol['Adducts'].isnull() & df_pol['Blacklist'].isnull()) | ~df_pol['known_anno'].isnull()\n",
    "    df_pol = df_pol[mask]\n",
    "\n",
    "    # And flatten the data for easy sorting/filtering/plotting:\n",
    "    df_pol_flat = pd.melt(df_pol, id_vars=['MW_parent', 'RT_parent', 'Adducts', 'Label_set', 'known_anno'], value_vars=list(name2info.keys()), var_name='sample', value_name='area')\n",
    "    # Add MW_RT string:\n",
    "    df_pol_flat['MW_RT_anno'] = [str(mw)+'_'+str(rt)+'_'+str(anno) for mw, rt, anno in zip(df_pol_flat['MW_parent'].values, df_pol_flat['RT_parent'].values, df_pol_flat['known_anno'].values)]\n",
    "    # Add sample info:\n",
    "    df_pol_flat = df_pol_flat.merge(sample_info_df.loc[:, ['name', 'Cell_line', 'Treatment']], left_on='sample', right_on='name')\n",
    "    # Drop unnecessary columns:\n",
    "    df_pol_flat = df_pol_flat.drop(['name'], axis=1)\n",
    "\n",
    "    return(df_pol, df_pol_flat)\n",
    "\n",
    "df_pos, df_pos_flat = flat_df(df_pos, sample_info_df)\n",
    "df_pos_flat.head(3)"
   ]
  },
  {
   "cell_type": "code",
   "execution_count": null,
   "metadata": {},
   "outputs": [],
   "source": []
  },
  {
   "cell_type": "markdown",
   "metadata": {},
   "source": [
    "The BSO vs. BSO + GSH addback samples can be used to discriminate ionization adducts from biologically produced glutathione conjugates.\n",
    "As an example plot the characteristics of glutathione and succinylglutathione"
   ]
  },
  {
   "cell_type": "code",
   "execution_count": 22,
   "metadata": {},
   "outputs": [
    {
     "data": {
      "image/png": "[encoded data removed]",
      "text/plain": [
       "<Figure size 648x360 with 1 Axes>"
      ]
     },
     "metadata": {},
     "output_type": "display_data"
    }
   ],
   "source": [
    "# Plotting for glutathione:\n",
    "mask = (df_pos_flat['MW_RT_anno'] == '307.08374_9.842_GSH') & (df_pos_flat['Treatment'] != 'Cys') & (df_pos_flat['Treatment'] != 'Gln')\n",
    "fig, ax1 = plt.subplots(1, 1, figsize=(9, 5))\n",
    "g1 = sns.barplot(ax=ax1, data=df_pos_flat[mask], y='area', x='Cell_line', hue='Treatment', ci=95, capsize=.04, errwidth=2, edgecolor='black', linewidth=2.5, alpha=0.7, zorder=1)\n",
    "g1.set_xlabel('Cell line')\n",
    "g1.set_ylabel('Peak area')\n",
    "g1.set_title('Glutathione')\n",
    "g1.grid(True, axis='y')\n",
    "g1.legend(bbox_to_anchor=(1.04,1), borderaxespad=0, title='Drug', loc='upper left')\n",
    "sns.despine()\n",
    "fig.tight_layout()"
   ]
  },
  {
   "cell_type": "code",
   "execution_count": 23,
   "metadata": {},
   "outputs": [
    {
     "data": {
      "image/png": "[encoded data removed]",
      "text/plain": [
       "<Figure size 648x360 with 1 Axes>"
      ]
     },
     "metadata": {},
     "output_type": "display_data"
    }
   ],
   "source": [
    "# Plotting for succinylglutathione:\n",
    "mask = (df_pos_flat['MW_RT_anno'] == '423.09501_12.721_Succinylglutathione') & (df_pos_flat['Treatment'] != 'Cys') & (df_pos_flat['Treatment'] != 'Gln')\n",
    "fig, ax1 = plt.subplots(1, 1, figsize=(9, 5))\n",
    "g1 = sns.barplot(ax=ax1, data=df_pos_flat[mask], y='area', x='Cell_line', hue='Treatment', ci=95, capsize=.04, errwidth=2, edgecolor='black', linewidth=2.5, alpha=0.7, zorder=1)\n",
    "g1.set_xlabel('Cell line')\n",
    "g1.set_ylabel('Peak area')\n",
    "g1.set_title('Succinylglutathione')\n",
    "g1.grid(True, axis='y')\n",
    "g1.legend(bbox_to_anchor=(1.04,1), borderaxespad=0, title='Drug', loc='upper left')\n",
    "sns.despine()\n",
    "fig.tight_layout()"
   ]
  },
  {
   "cell_type": "code",
   "execution_count": null,
   "metadata": {},
   "outputs": [],
   "source": []
  },
  {
   "cell_type": "markdown",
   "metadata": {},
   "source": [
    "An obvious in-source fragment of glutathione is when the peptide bond is broken to make cysteinylglycine.\n",
    "Let's look at the characteristics of this."
   ]
  },
  {
   "cell_type": "code",
   "execution_count": 24,
   "metadata": {},
   "outputs": [
    {
     "data": {
      "image/png": "[encoded data removed]",
      "text/plain": [
       "<Figure size 648x360 with 1 Axes>"
      ]
     },
     "metadata": {},
     "output_type": "display_data"
    }
   ],
   "source": [
    "# Plotting for cysteinylglycine:\n",
    "mask = (df_pos_flat['MW_RT_anno'] == '178.04131_9.848_Cysteinylglycine') & (df_pos_flat['Treatment'] != 'Cys') & (df_pos_flat['Treatment'] != 'Gln')\n",
    "fig, ax1 = plt.subplots(1, 1, figsize=(9, 5))\n",
    "g1 = sns.barplot(ax=ax1, data=df_pos_flat[mask], y='area', x='Cell_line', hue='Treatment', ci=95, capsize=.04, errwidth=2, edgecolor='black', linewidth=2.5, alpha=0.7, zorder=1)\n",
    "g1.set_xlabel('Cell line')\n",
    "g1.set_ylabel('Peak area')\n",
    "g1.set_title('Cysteinylglycine')\n",
    "g1.grid(True, axis='y')\n",
    "g1.legend(bbox_to_anchor=(1.04,1), borderaxespad=0, title='Drug', loc='upper left')\n",
    "sns.despine()\n",
    "fig.tight_layout()"
   ]
  },
  {
   "cell_type": "code",
   "execution_count": null,
   "metadata": {},
   "outputs": [],
   "source": []
  },
  {
   "cell_type": "markdown",
   "metadata": {},
   "source": [
    "Notice also, that cysteinylglycine has almost the exact same retention time as glutathione.\n",
    "\n",
    "This is an example of how the BSO control samples can be used to generate a list of ionization artifacts from in-source formation/fragmentation.\n",
    "To flag these peaks in future results they can be blacklisted by adding them to 'resources/blacklist.tab'.\n",
    "\n",
    "Below, I screen out these GSH ionization artifacts."
   ]
  },
  {
   "cell_type": "code",
   "execution_count": 25,
   "metadata": {},
   "outputs": [],
   "source": [
    "sample_grp = {\n",
    "'B16F10':\n",
    "    {\n",
    "    'Vec': ['B16_vec_1', 'B16_vec_2'],\n",
    "    'BSO': ['B16_BSO_1', 'B16_BSO_2'],\n",
    "    'BSO+addback': ['B16_BSO_GSH-AB_1', 'B16_BSO_GSH-AB_2']\n",
    "    },\n",
    "'HCT116':\n",
    "    {\n",
    "    'Vec': ['HCT116_vec_1', 'HCT116_vec_2'],\n",
    "    'BSO': ['HCT116_BSO_1', 'HCT116_BSO_2'],\n",
    "    'BSO+addback': ['HCT116_BSO_GSH-AB_1', 'HCT116_BSO_GSH-AB_2']\n",
    "    },\n",
    "'HUH7':\n",
    "    {\n",
    "    'Vec': ['HUH7_vec_1', 'HUH7_vec_2'],\n",
    "    'BSO': ['HUH7_BSO_1', 'HUH7_BSO_2'],\n",
    "    'BSO+addback': ['HUH7_BSO_GSH-AB_1', 'HUH7_BSO_GSH-AB_2']\n",
    "    }\n",
    "}"
   ]
  },
  {
   "cell_type": "code",
   "execution_count": 26,
   "metadata": {},
   "outputs": [
    {
     "name": "stdout",
     "output_type": "stream",
     "text": [
      "Number of GSH ionization artifacts found: 25\n"
     ]
    },
    {
     "name": "stderr",
     "output_type": "stream",
     "text": [
      "<ipython-input-26-da4b895c1372>:19: RuntimeWarning: More than 20 figures have been opened. Figures created through the pyplot interface (`matplotlib.pyplot.figure`) are retained until explicitly closed and may consume too much memory. (To control this warning, see the rcParam `figure.max_open_warning`).\n",
      "  fig, ax1 = plt.subplots(1, 1, figsize=(9, 5))\n"
     ]
    },
    {
     "data": {
      "text/plain": [
       "<Figure size 648x360 with 0 Axes>"
      ]
     },
     "metadata": {},
     "output_type": "display_data"
    },
    {
     "data": {
      "text/plain": [
       "<Figure size 648x360 with 0 Axes>"
      ]
     },
     "metadata": {},
     "output_type": "display_data"
    },
    {
     "data": {
      "text/plain": [
       "<Figure size 648x360 with 0 Axes>"
      ]
     },
     "metadata": {},
     "output_type": "display_data"
    },
    {
     "data": {
      "text/plain": [
       "<Figure size 648x360 with 0 Axes>"
      ]
     },
     "metadata": {},
     "output_type": "display_data"
    },
    {
     "data": {
      "text/plain": [
       "<Figure size 648x360 with 0 Axes>"
      ]
     },
     "metadata": {},
     "output_type": "display_data"
    },
    {
     "data": {
      "text/plain": [
       "<Figure size 648x360 with 0 Axes>"
      ]
     },
     "metadata": {},
     "output_type": "display_data"
    },
    {
     "data": {
      "text/plain": [
       "<Figure size 648x360 with 0 Axes>"
      ]
     },
     "metadata": {},
     "output_type": "display_data"
    },
    {
     "data": {
      "text/plain": [
       "<Figure size 648x360 with 0 Axes>"
      ]
     },
     "metadata": {},
     "output_type": "display_data"
    },
    {
     "data": {
      "text/plain": [
       "<Figure size 648x360 with 0 Axes>"
      ]
     },
     "metadata": {},
     "output_type": "display_data"
    },
    {
     "data": {
      "text/plain": [
       "<Figure size 648x360 with 0 Axes>"
      ]
     },
     "metadata": {},
     "output_type": "display_data"
    },
    {
     "data": {
      "text/plain": [
       "<Figure size 648x360 with 0 Axes>"
      ]
     },
     "metadata": {},
     "output_type": "display_data"
    },
    {
     "data": {
      "text/plain": [
       "<Figure size 648x360 with 0 Axes>"
      ]
     },
     "metadata": {},
     "output_type": "display_data"
    },
    {
     "data": {
      "text/plain": [
       "<Figure size 648x360 with 0 Axes>"
      ]
     },
     "metadata": {},
     "output_type": "display_data"
    },
    {
     "data": {
      "text/plain": [
       "<Figure size 648x360 with 0 Axes>"
      ]
     },
     "metadata": {},
     "output_type": "display_data"
    },
    {
     "data": {
      "text/plain": [
       "<Figure size 648x360 with 0 Axes>"
      ]
     },
     "metadata": {},
     "output_type": "display_data"
    },
    {
     "data": {
      "text/plain": [
       "<Figure size 648x360 with 0 Axes>"
      ]
     },
     "metadata": {},
     "output_type": "display_data"
    },
    {
     "data": {
      "text/plain": [
       "<Figure size 648x360 with 0 Axes>"
      ]
     },
     "metadata": {},
     "output_type": "display_data"
    },
    {
     "data": {
      "text/plain": [
       "<Figure size 648x360 with 0 Axes>"
      ]
     },
     "metadata": {},
     "output_type": "display_data"
    },
    {
     "data": {
      "text/plain": [
       "<Figure size 648x360 with 0 Axes>"
      ]
     },
     "metadata": {},
     "output_type": "display_data"
    },
    {
     "data": {
      "text/plain": [
       "<Figure size 648x360 with 0 Axes>"
      ]
     },
     "metadata": {},
     "output_type": "display_data"
    },
    {
     "data": {
      "text/plain": [
       "<Figure size 648x360 with 0 Axes>"
      ]
     },
     "metadata": {},
     "output_type": "display_data"
    },
    {
     "data": {
      "text/plain": [
       "<Figure size 648x360 with 0 Axes>"
      ]
     },
     "metadata": {},
     "output_type": "display_data"
    },
    {
     "data": {
      "text/plain": [
       "<Figure size 648x360 with 0 Axes>"
      ]
     },
     "metadata": {},
     "output_type": "display_data"
    },
    {
     "data": {
      "text/plain": [
       "<Figure size 648x360 with 0 Axes>"
      ]
     },
     "metadata": {},
     "output_type": "display_data"
    },
    {
     "data": {
      "text/plain": [
       "<Figure size 648x360 with 0 Axes>"
      ]
     },
     "metadata": {},
     "output_type": "display_data"
    }
   ],
   "source": [
    "def mask_GSH_artifacts(df_pol, sample_grp, plot_fld):\n",
    "    fold_depl = 2\n",
    "    mask_union = df_pol['pair_id'].isnull()\n",
    "    for cell_line in sample_grp:\n",
    "        vec_area = df_pol.loc[:, sample_grp[cell_line]['Vec']].mean(1)\n",
    "        bso_area = df_pol.loc[:, sample_grp[cell_line]['BSO']].mean(1)\n",
    "        ab_area = df_pol.loc[:, sample_grp[cell_line]['BSO+addback']].mean(1)\n",
    "\n",
    "        mask = (vec_area / bso_area >= fold_depl) & (ab_area / bso_area >= fold_depl)\n",
    "        mask_union = mask_union | mask\n",
    "\n",
    "    mask_union = mask_union & (df_pol['RT_parent'] > (9.842-0.2)) & (df_pol['RT_parent'] < (9.842+0.2))\n",
    "    print('Number of GSH ionization artifacts found: {}'.format(mask_union.sum()))\n",
    "    \n",
    "    # Plot all these, and dump the plots as pdf:\n",
    "    _, df_pol_sele = flat_df(df_pol[mask_union], sample_info_df)\n",
    "    for peak_pair in set(df_pol_sele['MW_RT_anno'].values):\n",
    "        mask = (df_pol_sele['MW_RT_anno'] == peak_pair) & (df_pol_sele['Treatment'] != 'Cys') & (df_pol_sele['Treatment'] != 'Gln')\n",
    "        fig, ax1 = plt.subplots(1, 1, figsize=(9, 5))\n",
    "        g1 = sns.barplot(ax=ax1, data=df_pol_sele[mask], y='area', x='Cell_line', hue='Treatment', ci=95, capsize=.04, errwidth=2, edgecolor='black', linewidth=2.5, alpha=0.7, zorder=1);\n",
    "        g1.set_xlabel('Cell line')\n",
    "        g1.set_ylabel('Peak area')\n",
    "        g1.set_title(peak_pair)\n",
    "        g1.grid(True, axis='y')\n",
    "        g1.legend(bbox_to_anchor=(1.04,1), borderaxespad=0, title='Drug', loc='upper left')\n",
    "        sns.despine()\n",
    "        fig.tight_layout();\n",
    "        fig.savefig('{}/{}.pdf'.format(plot_fld, peak_pair), bbox_inches='tight');\n",
    "        fig.clear();\n",
    "\n",
    "    return(mask_union)\n",
    "\n",
    "mask_union_pos = mask_GSH_artifacts(df_pos, sample_grp, 'projects/three-cell-lines/pos/plots/probable-GSH-artifacts')"
   ]
  },
  {
   "cell_type": "code",
   "execution_count": 27,
   "metadata": {},
   "outputs": [],
   "source": [
    "# Finally, add the newly found GSH artifacts to a new blacklist:\n",
    "mask_union_no_known_pos = mask_union_pos & df_pos['known_anno'].isnull()\n",
    "with open('resources/blacklist.tab', 'r') as bckl_old:\n",
    "    with open('resources/blacklist-GSH-artifacts.tab', 'w') as bckl_new:\n",
    "        for line in bckl_old:\n",
    "            print(line, file=bckl_new, end='')\n",
    "        for mw, rt in zip(df_pos.loc[mask_union_no_known_pos, 'MW_parent'].values, df_pos.loc[mask_union_no_known_pos, 'RT_parent'].values):\n",
    "            print('\\nInf. GSH artifact\\t{}\\t{}\\tpos\\t4\\t0.5'.format(mw, rt), file=bckl_new, end='')"
   ]
  },
  {
   "cell_type": "code",
   "execution_count": null,
   "metadata": {},
   "outputs": [],
   "source": []
  },
  {
   "cell_type": "code",
   "execution_count": 28,
   "metadata": {},
   "outputs": [
    {
     "name": "stdout",
     "output_type": "stream",
     "text": [
      "Number of GSH ionization artifacts found: 20\n"
     ]
    },
    {
     "data": {
      "text/plain": [
       "<Figure size 648x360 with 0 Axes>"
      ]
     },
     "metadata": {},
     "output_type": "display_data"
    },
    {
     "data": {
      "text/plain": [
       "<Figure size 648x360 with 0 Axes>"
      ]
     },
     "metadata": {},
     "output_type": "display_data"
    },
    {
     "data": {
      "text/plain": [
       "<Figure size 648x360 with 0 Axes>"
      ]
     },
     "metadata": {},
     "output_type": "display_data"
    },
    {
     "data": {
      "text/plain": [
       "<Figure size 648x360 with 0 Axes>"
      ]
     },
     "metadata": {},
     "output_type": "display_data"
    },
    {
     "data": {
      "text/plain": [
       "<Figure size 648x360 with 0 Axes>"
      ]
     },
     "metadata": {},
     "output_type": "display_data"
    },
    {
     "data": {
      "text/plain": [
       "<Figure size 648x360 with 0 Axes>"
      ]
     },
     "metadata": {},
     "output_type": "display_data"
    },
    {
     "data": {
      "text/plain": [
       "<Figure size 648x360 with 0 Axes>"
      ]
     },
     "metadata": {},
     "output_type": "display_data"
    },
    {
     "data": {
      "text/plain": [
       "<Figure size 648x360 with 0 Axes>"
      ]
     },
     "metadata": {},
     "output_type": "display_data"
    },
    {
     "data": {
      "text/plain": [
       "<Figure size 648x360 with 0 Axes>"
      ]
     },
     "metadata": {},
     "output_type": "display_data"
    },
    {
     "data": {
      "text/plain": [
       "<Figure size 648x360 with 0 Axes>"
      ]
     },
     "metadata": {},
     "output_type": "display_data"
    },
    {
     "data": {
      "text/plain": [
       "<Figure size 648x360 with 0 Axes>"
      ]
     },
     "metadata": {},
     "output_type": "display_data"
    },
    {
     "data": {
      "text/plain": [
       "<Figure size 648x360 with 0 Axes>"
      ]
     },
     "metadata": {},
     "output_type": "display_data"
    },
    {
     "data": {
      "text/plain": [
       "<Figure size 648x360 with 0 Axes>"
      ]
     },
     "metadata": {},
     "output_type": "display_data"
    },
    {
     "data": {
      "text/plain": [
       "<Figure size 648x360 with 0 Axes>"
      ]
     },
     "metadata": {},
     "output_type": "display_data"
    },
    {
     "data": {
      "text/plain": [
       "<Figure size 648x360 with 0 Axes>"
      ]
     },
     "metadata": {},
     "output_type": "display_data"
    },
    {
     "data": {
      "text/plain": [
       "<Figure size 648x360 with 0 Axes>"
      ]
     },
     "metadata": {},
     "output_type": "display_data"
    },
    {
     "data": {
      "text/plain": [
       "<Figure size 648x360 with 0 Axes>"
      ]
     },
     "metadata": {},
     "output_type": "display_data"
    },
    {
     "data": {
      "text/plain": [
       "<Figure size 648x360 with 0 Axes>"
      ]
     },
     "metadata": {},
     "output_type": "display_data"
    },
    {
     "data": {
      "text/plain": [
       "<Figure size 648x360 with 0 Axes>"
      ]
     },
     "metadata": {},
     "output_type": "display_data"
    },
    {
     "data": {
      "text/plain": [
       "<Figure size 648x360 with 0 Axes>"
      ]
     },
     "metadata": {},
     "output_type": "display_data"
    }
   ],
   "source": [
    "# Perform the same screen for negative polarity:\n",
    "df_neg = peak_obj.label_pairs['cys']['neg']['peak_pair_area_parent'].copy()\n",
    "df_neg, df_neg_flat = flat_df(df_neg, sample_info_df)\n",
    "mask_union_neg = mask_GSH_artifacts(df_neg, sample_grp, 'projects/three-cell-lines/neg/plots/probable-GSH-artifacts')\n",
    "\n",
    "# And add them to the new blacklist:\n",
    "mask_union_no_known_neg = mask_union_neg & df_neg['known_anno'].isnull()\n",
    "with open('resources/blacklist-GSH-artifacts.tab', 'a') as bckl_new:\n",
    "    for mw, rt in zip(df_neg.loc[mask_union_no_known_neg, 'MW_parent'].values, df_neg.loc[mask_union_no_known_neg, 'RT_parent'].values):\n",
    "        print('\\nInf. GSH artifact\\t{}\\t{}\\tneg\\t4\\t0.5'.format(mw, rt), file=bckl_new, end='')"
   ]
  },
  {
   "cell_type": "code",
   "execution_count": null,
   "metadata": {},
   "outputs": [],
   "source": []
  },
  {
   "cell_type": "code",
   "execution_count": 29,
   "metadata": {},
   "outputs": [],
   "source": [
    "# And lastly, the peak pair tables can be updated:\n",
    "peak_obj.flag_blacklist('resources/blacklist-GSH-artifacts.tab', polarity='both')"
   ]
  },
  {
   "cell_type": "code",
   "execution_count": null,
   "metadata": {},
   "outputs": [],
   "source": []
  },
  {
   "cell_type": "markdown",
   "metadata": {},
   "source": [
    "With the new filter, it gets easier to filter out noise.\n",
    "Let us apply all the filters i.e. remove all adducts, isotopes and blacklisted peak pairs, and focusing on peak pairs that are labelled with both cystine and glutamine."
   ]
  },
  {
   "cell_type": "code",
   "execution_count": 30,
   "metadata": {},
   "outputs": [
    {
     "name": "stdout",
     "output_type": "stream",
     "text": [
      "Peak pairs left after filtering: 16\n"
     ]
    },
    {
     "data": {
      "text/html": [
       "<div>\n",
       "<style scoped>\n",
       "    .dataframe tbody tr th:only-of-type {\n",
       "        vertical-align: middle;\n",
       "    }\n",
       "\n",
       "    .dataframe tbody tr th {\n",
       "        vertical-align: top;\n",
       "    }\n",
       "\n",
       "    .dataframe thead th {\n",
       "        text-align: right;\n",
       "    }\n",
       "</style>\n",
       "<table border=\"1\" class=\"dataframe\">\n",
       "  <thead>\n",
       "    <tr style=\"text-align: right;\">\n",
       "      <th></th>\n",
       "      <th>MW_parent</th>\n",
       "      <th>RT_parent</th>\n",
       "      <th>Label_set</th>\n",
       "      <th>known_anno</th>\n",
       "    </tr>\n",
       "  </thead>\n",
       "  <tbody>\n",
       "    <tr>\n",
       "      <th>0</th>\n",
       "      <td>121.02</td>\n",
       "      <td>8.626</td>\n",
       "      <td>cys</td>\n",
       "      <td>Cysteine</td>\n",
       "    </tr>\n",
       "    <tr>\n",
       "      <th>38</th>\n",
       "      <td>178.041</td>\n",
       "      <td>9.848</td>\n",
       "      <td>cys</td>\n",
       "      <td>Cysteinylglycine</td>\n",
       "    </tr>\n",
       "    <tr>\n",
       "      <th>45</th>\n",
       "      <td>191.025</td>\n",
       "      <td>10.435</td>\n",
       "      <td>cys</td>\n",
       "      <td>Conjugate EC = C3H3O2</td>\n",
       "    </tr>\n",
       "    <tr>\n",
       "      <th>46</th>\n",
       "      <td>193.041</td>\n",
       "      <td>7.601</td>\n",
       "      <td>cys</td>\n",
       "      <td>G3P Cys</td>\n",
       "    </tr>\n",
       "    <tr>\n",
       "      <th>70</th>\n",
       "      <td>237.031</td>\n",
       "      <td>11.885</td>\n",
       "      <td>cys</td>\n",
       "      <td>Succinylcysteine</td>\n",
       "    </tr>\n",
       "    <tr>\n",
       "      <th>99</th>\n",
       "      <td>283.073</td>\n",
       "      <td>9.323</td>\n",
       "      <td>cys</td>\n",
       "      <td>G6P Cys</td>\n",
       "    </tr>\n",
       "    <tr>\n",
       "      <th>113</th>\n",
       "      <td>307.084</td>\n",
       "      <td>9.842</td>\n",
       "      <td>cys, gln</td>\n",
       "      <td>GSH</td>\n",
       "    </tr>\n",
       "    <tr>\n",
       "      <th>131</th>\n",
       "      <td>339.074</td>\n",
       "      <td>9.851</td>\n",
       "      <td>cys</td>\n",
       "      <td>Sulfinic glutathione</td>\n",
       "    </tr>\n",
       "    <tr>\n",
       "      <th>137</th>\n",
       "      <td>349.095</td>\n",
       "      <td>8.861</td>\n",
       "      <td>cys, gln</td>\n",
       "      <td>S-(Formylmethyl)glutathione</td>\n",
       "    </tr>\n",
       "    <tr>\n",
       "      <th>153</th>\n",
       "      <td>379.105</td>\n",
       "      <td>9.143</td>\n",
       "      <td>cys, gln</td>\n",
       "      <td>S-Lactoylglutathione</td>\n",
       "    </tr>\n",
       "    <tr>\n",
       "      <th>163</th>\n",
       "      <td>394.153</td>\n",
       "      <td>8.868</td>\n",
       "      <td>cys, gln</td>\n",
       "      <td>GSH conjugate EC = C4H10NO</td>\n",
       "    </tr>\n",
       "    <tr>\n",
       "      <th>172</th>\n",
       "      <td>423.095</td>\n",
       "      <td>12.721</td>\n",
       "      <td>cys, gln</td>\n",
       "      <td>Succinylglutathione</td>\n",
       "    </tr>\n",
       "    <tr>\n",
       "      <th>209</th>\n",
       "      <td>612.153</td>\n",
       "      <td>9.93</td>\n",
       "      <td>cys, gln</td>\n",
       "      <td>GSSG</td>\n",
       "    </tr>\n",
       "    <tr>\n",
       "      <th>210</th>\n",
       "      <td>612.153</td>\n",
       "      <td>11.932</td>\n",
       "      <td>cys, gln</td>\n",
       "      <td>GSSG</td>\n",
       "    </tr>\n",
       "    <tr>\n",
       "      <th>213</th>\n",
       "      <td>616.16</td>\n",
       "      <td>11.935</td>\n",
       "      <td>cys</td>\n",
       "      <td>GSSG</td>\n",
       "    </tr>\n",
       "    <tr>\n",
       "      <th>214</th>\n",
       "      <td>616.16</td>\n",
       "      <td>9.926</td>\n",
       "      <td>cys</td>\n",
       "      <td>GSSG</td>\n",
       "    </tr>\n",
       "  </tbody>\n",
       "</table>\n",
       "</div>"
      ],
      "text/plain": [
       "    MW_parent RT_parent Label_set                   known_anno\n",
       "0      121.02     8.626       cys                     Cysteine\n",
       "38    178.041     9.848       cys             Cysteinylglycine\n",
       "45    191.025    10.435       cys        Conjugate EC = C3H3O2\n",
       "46    193.041     7.601       cys                      G3P Cys\n",
       "70    237.031    11.885       cys             Succinylcysteine\n",
       "99    283.073     9.323       cys                      G6P Cys\n",
       "113   307.084     9.842  cys, gln                          GSH\n",
       "131   339.074     9.851       cys         Sulfinic glutathione\n",
       "137   349.095     8.861  cys, gln  S-(Formylmethyl)glutathione\n",
       "153   379.105     9.143  cys, gln         S-Lactoylglutathione\n",
       "163   394.153     8.868  cys, gln   GSH conjugate EC = C4H10NO\n",
       "172   423.095    12.721  cys, gln          Succinylglutathione\n",
       "209   612.153      9.93  cys, gln                         GSSG\n",
       "210   612.153    11.932  cys, gln                         GSSG\n",
       "213    616.16    11.935       cys                         GSSG\n",
       "214    616.16     9.926       cys                         GSSG"
      ]
     },
     "execution_count": 30,
     "metadata": {},
     "output_type": "execute_result"
    }
   ],
   "source": [
    "df_pos = peak_obj.label_pairs['cys']['pos']['peak_pair_area_parent'].copy()\n",
    "mask = (df_pos['Isotopes'].isnull() & df_pos['Adducts'].isnull() & df_pos['Blacklist'].isnull() & df_pos['Label_set'] == 'cys, gln') | ~df_pos['known_anno'].isnull()\n",
    "print('Peak pairs left after filtering: {}'.format(mask.sum()))\n",
    "df_pos.loc[mask, ['MW_parent', 'RT_parent', 'Label_set', 'known_anno']]"
   ]
  },
  {
   "cell_type": "markdown",
   "metadata": {},
   "source": [
    "We see several compounds with peak pairs labelled by either cystine or cystine and glutamine as expected.\n",
    "For example, glutathione (GSH), S-(Formylmethyl)glutathione, S-Lactoylglutathione, Succinylglutathione and oxidized glutathione (GSSG) is found labelled with both cystine and glutamine.\n",
    "GSSG is represented by several rows because of in-source formation from GSH (as seen at retention time close to 9.9) and because cystine will label GSSG twice.\n",
    "\n",
    "Cystine also trace into several cysteine conjugates e.g. G6P, G3P and Succinylcysteine.\n",
    "\n",
    "The analysis is repeated in negative polarity below."
   ]
  },
  {
   "cell_type": "code",
   "execution_count": 31,
   "metadata": {},
   "outputs": [
    {
     "name": "stdout",
     "output_type": "stream",
     "text": [
      "Peak pairs left after filtering: 8\n"
     ]
    },
    {
     "data": {
      "text/html": [
       "<div>\n",
       "<style scoped>\n",
       "    .dataframe tbody tr th:only-of-type {\n",
       "        vertical-align: middle;\n",
       "    }\n",
       "\n",
       "    .dataframe tbody tr th {\n",
       "        vertical-align: top;\n",
       "    }\n",
       "\n",
       "    .dataframe thead th {\n",
       "        text-align: right;\n",
       "    }\n",
       "</style>\n",
       "<table border=\"1\" class=\"dataframe\">\n",
       "  <thead>\n",
       "    <tr style=\"text-align: right;\">\n",
       "      <th></th>\n",
       "      <th>MW_parent</th>\n",
       "      <th>RT_parent</th>\n",
       "      <th>Label_set</th>\n",
       "      <th>known_anno</th>\n",
       "    </tr>\n",
       "  </thead>\n",
       "  <tbody>\n",
       "    <tr>\n",
       "      <th>6</th>\n",
       "      <td>178.041</td>\n",
       "      <td>6.819</td>\n",
       "      <td>cys</td>\n",
       "      <td>Cysteinylglycine</td>\n",
       "    </tr>\n",
       "    <tr>\n",
       "      <th>7</th>\n",
       "      <td>178.041</td>\n",
       "      <td>9.824</td>\n",
       "      <td>cys</td>\n",
       "      <td>Cysteinylglycine</td>\n",
       "    </tr>\n",
       "    <tr>\n",
       "      <th>12</th>\n",
       "      <td>191.025</td>\n",
       "      <td>10.391</td>\n",
       "      <td>cys</td>\n",
       "      <td>Conjugate EC = C3H3O2</td>\n",
       "    </tr>\n",
       "    <tr>\n",
       "      <th>27</th>\n",
       "      <td>237.031</td>\n",
       "      <td>11.889</td>\n",
       "      <td>cys</td>\n",
       "      <td>Succinylcysteine</td>\n",
       "    </tr>\n",
       "    <tr>\n",
       "      <th>41</th>\n",
       "      <td>283.073</td>\n",
       "      <td>9.317</td>\n",
       "      <td>cys</td>\n",
       "      <td>G6P Cys</td>\n",
       "    </tr>\n",
       "    <tr>\n",
       "      <th>50</th>\n",
       "      <td>307.084</td>\n",
       "      <td>9.819</td>\n",
       "      <td>cys, gln</td>\n",
       "      <td>GSH</td>\n",
       "    </tr>\n",
       "    <tr>\n",
       "      <th>63</th>\n",
       "      <td>349.095</td>\n",
       "      <td>8.831</td>\n",
       "      <td>cys, gln</td>\n",
       "      <td>S-(Formylmethyl)glutathione</td>\n",
       "    </tr>\n",
       "    <tr>\n",
       "      <th>87</th>\n",
       "      <td>423.096</td>\n",
       "      <td>12.715</td>\n",
       "      <td>cys</td>\n",
       "      <td>Succinylglutathione</td>\n",
       "    </tr>\n",
       "  </tbody>\n",
       "</table>\n",
       "</div>"
      ],
      "text/plain": [
       "   MW_parent RT_parent Label_set                   known_anno\n",
       "6    178.041     6.819       cys             Cysteinylglycine\n",
       "7    178.041     9.824       cys             Cysteinylglycine\n",
       "12   191.025    10.391       cys        Conjugate EC = C3H3O2\n",
       "27   237.031    11.889       cys             Succinylcysteine\n",
       "41   283.073     9.317       cys                      G6P Cys\n",
       "50   307.084     9.819  cys, gln                          GSH\n",
       "63   349.095     8.831  cys, gln  S-(Formylmethyl)glutathione\n",
       "87   423.096    12.715       cys          Succinylglutathione"
      ]
     },
     "execution_count": 31,
     "metadata": {},
     "output_type": "execute_result"
    }
   ],
   "source": [
    "df_neg = peak_obj.label_pairs['cys']['neg']['peak_pair_area_parent'].copy()\n",
    "mask = (df_neg['Isotopes'].isnull() & df_neg['Adducts'].isnull() & df_neg['Blacklist'].isnull() & df_neg['Label_set'] == 'cys, gln') | ~df_neg['known_anno'].isnull()\n",
    "print('Peak pairs left after filtering: {}'.format(mask.sum()))\n",
    "df_neg.loc[mask, ['MW_parent', 'RT_parent', 'Label_set', 'known_anno']]"
   ]
  },
  {
   "cell_type": "code",
   "execution_count": null,
   "metadata": {},
   "outputs": [],
   "source": []
  },
  {
   "cell_type": "markdown",
   "metadata": {},
   "source": [
    "Finally, let's check out the labelling of some of the compounds that are labelled by both cystine and glutamine.\n",
    "Here shown for positive polarity."
   ]
  },
  {
   "cell_type": "code",
   "execution_count": 32,
   "metadata": {},
   "outputs": [],
   "source": [
    "# Data, no label:\n",
    "df_pos = peak_obj.label_pairs['cys']['pos']['peak_pair_area_parent'].copy()\n",
    "mask = (df_pos['Isotopes'].isnull() & df_pos['Adducts'].isnull() & df_pos['Blacklist'].isnull() & df_pos['Label_set'] == 'cys, gln') | ~df_pos['known_anno'].isnull()\n",
    "df_pos, df_pos_flat = flat_df(df_pos[mask], sample_info_df)\n",
    "\n",
    "# Data, cysteine label (m+4):\n",
    "df_pos_m4 = peak_obj.label_pairs['cys']['pos']['peak_pair_area_heavy'].copy()\n",
    "mask = (df_pos_m4['Isotopes'].isnull() & df_pos_m4['Adducts'].isnull() & df_pos_m4['Blacklist'].isnull() & df_pos_m4['Label_set'] == 'cys, gln') | ~df_pos_m4['known_anno'].isnull()\n",
    "df_pos_m4, df_pos_flat_m4 = flat_df(df_pos_m4[mask], sample_info_df)\n",
    "\n",
    "# Data, glutamine label (m+5):\n",
    "df_pos_m5 = peak_obj.label_pairs['gln']['pos']['peak_pair_area_heavy'].copy()\n",
    "mask = (df_pos_m5['Isotopes'].isnull() & df_pos_m5['Adducts'].isnull() & df_pos_m5['Blacklist'].isnull() & df_pos_m5['Label_set'] == 'cys, gln') | ~df_pos_m5['known_anno'].isnull()\n",
    "df_pos_m5, df_pos_flat_m5 = flat_df(df_pos_m5[mask], sample_info_df)"
   ]
  },
  {
   "cell_type": "code",
   "execution_count": 33,
   "metadata": {
    "scrolled": true
   },
   "outputs": [
    {
     "data": {
      "image/png": "[encoded data removed]",
      "text/plain": [
       "<Figure size 1224x324 with 3 Axes>"
      ]
     },
     "metadata": {},
     "output_type": "display_data"
    },
    {
     "data": {
      "image/png": "[encoded data removed]",
      "text/plain": [
       "<Figure size 1224x324 with 3 Axes>"
      ]
     },
     "metadata": {},
     "output_type": "display_data"
    },
    {
     "data": {
      "image/png": "[encoded data removed]",
      "text/plain": [
       "<Figure size 1224x324 with 3 Axes>"
      ]
     },
     "metadata": {},
     "output_type": "display_data"
    },
    {
     "data": {
      "image/png": "[encoded data removed]",
      "text/plain": [
       "<Figure size 1224x324 with 3 Axes>"
      ]
     },
     "metadata": {},
     "output_type": "display_data"
    }
   ],
   "source": [
    "# Plotting:\n",
    "for peak_id, name in zip(['307.08374_9.842_GSH', '349.09456_8.861_S-(Formylmethyl)glutathione', '423.09501_12.721_Succinylglutathione', '612.15316_11.932_GSSG'], ['Glutathione', 'S-(Formylmethyl)glutathione', 'Succinylglutathione', 'GSSG']):\n",
    "\n",
    "    fig, (ax1, ax2, ax3) = plt.subplots(1, 3, figsize=(17, 4.5), sharey=True)\n",
    "\n",
    "    ### No label:\n",
    "    mask = (df_pos_flat['MW_RT_anno'] == peak_id)\n",
    "    g1 = sns.barplot(ax=ax1, data=df_pos_flat[mask], y='area', x='Cell_line', hue='Treatment', ci=95, capsize=.04, errwidth=2, edgecolor='black', linewidth=2.5, alpha=0.7, zorder=1)\n",
    "    g1.set_xlabel('')\n",
    "    g1.set_ylabel('Peak area')\n",
    "    g1.set_title(name)\n",
    "    g1.grid(True, axis='y')\n",
    "    g1.legend_.remove()\n",
    "\n",
    "    ### Cysteine label (m+4):\n",
    "    mask = (df_pos_flat_m4['MW_RT_anno'] == peak_id)\n",
    "    g2 = sns.barplot(ax=ax2, data=df_pos_flat_m4[mask], y='area', x='Cell_line', hue='Treatment', ci=95, capsize=.04, errwidth=2, edgecolor='black', linewidth=2.5, alpha=0.7, zorder=1)\n",
    "    g2.set_xlabel('')\n",
    "    g2.set_ylabel('')\n",
    "    g2.set_title('{} m+4 (Cys)'.format(name))\n",
    "    g2.grid(True, axis='y')\n",
    "    g2.legend_.remove()\n",
    "\n",
    "    ### Glutamine label (m+5):\n",
    "    mask = (df_pos_flat_m5['MW_RT_anno'] == peak_id)\n",
    "    g3 = sns.barplot(ax=ax3, data=df_pos_flat_m5[mask], y='area', x='Cell_line', hue='Treatment', ci=95, capsize=.04, errwidth=2, edgecolor='black', linewidth=2.5, alpha=0.7, zorder=1)\n",
    "    g3.set_xlabel('')\n",
    "    g3.set_ylabel('')\n",
    "    g3.set_title('{} m+5 (Gln)'.format(name))\n",
    "    g3.grid(True, axis='y')\n",
    "\n",
    "    g3.legend(bbox_to_anchor=(1.04,1), borderaxespad=0, title='Treatment', loc='upper left')\n",
    "    sns.despine()\n",
    "    fig.tight_layout()"
   ]
  },
  {
   "cell_type": "code",
   "execution_count": null,
   "metadata": {},
   "outputs": [],
   "source": []
  },
  {
   "cell_type": "code",
   "execution_count": null,
   "metadata": {},
   "outputs": [],
   "source": []
  },
  {
   "cell_type": "code",
   "execution_count": null,
   "metadata": {},
   "outputs": [],
   "source": []
  },
  {
   "cell_type": "code",
   "execution_count": null,
   "metadata": {},
   "outputs": [],
   "source": []
  },
  {
   "cell_type": "code",
   "execution_count": null,
   "metadata": {},
   "outputs": [],
   "source": []
  }
 ],
 "metadata": {
  "kernelspec": {
   "display_name": "Python 3",
   "language": "python",
   "name": "python3"
  },
  "language_info": {
   "codemirror_mode": {
    "name": "ipython",
    "version": 3
   },
   "file_extension": ".py",
   "mimetype": "text/x-python",
   "name": "python",
   "nbconvert_exporter": "python",
   "pygments_lexer": "ipython3",
   "version": "3.8.5"
  }
 },
 "nbformat": 4,
 "nbformat_minor": 2
}
