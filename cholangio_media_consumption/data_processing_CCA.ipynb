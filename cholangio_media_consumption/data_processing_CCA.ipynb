{
 "cells": [
  {
   "cell_type": "code",
   "execution_count": 1,
   "metadata": {},
   "outputs": [],
   "source": [
    "import sys, os, re, copy\n",
    "import dill as pickle # this serializes all the functions inside the quantification dict\n",
    "import numpy as np\n",
    "import scipy as sp\n",
    "from scipy.optimize import newton, minimize, fsolve\n",
    "import pandas as pd\n",
    "import matplotlib.pyplot as plt\n",
    "import matplotlib.backends.backend_pdf\n",
    "import matplotlib.colors as mcolors\n",
    "import matplotlib.ticker as tck\n",
    "from matplotlib.gridspec import GridSpec\n",
    "palette = list(mcolors.TABLEAU_COLORS.keys())\n",
    "%matplotlib inline\n",
    "import seaborn as sns\n",
    "sns.set_style(\"whitegrid\", {\n",
    " 'axes.spines.bottom': True,\n",
    " 'axes.spines.left': True,\n",
    " 'axes.spines.right': True,\n",
    " 'axes.spines.top': True\n",
    "})\n",
    "sns.set(font_scale=1)\n",
    "palette = list(mcolors.TABLEAU_COLORS.keys())\n",
    "sns.set_theme(style=\"ticks\", palette=\"muted\")\n",
    "sns.set_context(\"talk\")"
   ]
  },
  {
   "cell_type": "code",
   "execution_count": 2,
   "metadata": {},
   "outputs": [],
   "source": [
    "def impute_conc(piece_wise_fit_metab, response_ratio):\n",
    "    '''\n",
    "    This function imputes the concentration from a response ratio.\n",
    "    '''\n",
    "    response_ratio_range = np.array(list(piece_wise_fit_metab.keys()))\n",
    "    mask_range = [response_ratio >= min_v and response_ratio <= max_v for max_v, min_v in response_ratio_range]\n",
    "    k = tuple(response_ratio_range[mask_range][0])\n",
    "    conc = piece_wise_fit_metab[k](response_ratio)\n",
    "    estimator = 'intrapolation'\n",
    "    if 0 in k:\n",
    "        estimator = 'extrapolation under'\n",
    "    elif np.inf in k:\n",
    "        estimator = 'extrapolation over'\n",
    "    return(conc, estimator)"
   ]
  },
  {
   "cell_type": "code",
   "execution_count": null,
   "metadata": {},
   "outputs": [],
   "source": []
  },
  {
   "cell_type": "code",
   "execution_count": null,
   "metadata": {},
   "outputs": [],
   "source": []
  },
  {
   "cell_type": "code",
   "execution_count": 3,
   "metadata": {},
   "outputs": [],
   "source": [
    "### Read quantification function ###\n",
    "dict_pickle_fnam = 'AA_quant-dict.pickle'\n",
    "with open(dict_pickle_fnam, 'rb') as handle:\n",
    "    piece_wise_fit_quant = pickle.load(handle)"
   ]
  },
  {
   "cell_type": "code",
   "execution_count": 4,
   "metadata": {},
   "outputs": [],
   "source": [
    "### Read measurements ###\n",
    "### Replace all N/F with 0 before start ###\n",
    "# esheet_dict_mes = pd.read_excel('20230208_Cholangio_media_consumption_analysis.xlsx', sheet_name=None)\n",
    "esheet_dict_mes = pd.read_excel('20230425_Cholangio_NRF2on_media_consumption_2.xlsx', sheet_name=None)\n",
    "# annotation_df = pd.read_excel('input/annotations.xlsx')\n",
    "metab_dict_mes = dict()\n",
    "metab_names_mes = list()\n",
    "for k in esheet_dict_mes.keys():\n",
    "    if 'U-13C' not in k:\n",
    "        metab_names_mes.append(k)\n",
    "        metab_dict_mes[k] = copy.deepcopy(esheet_dict_mes[k])\n",
    "        metab_dict_mes[k]['Response Ratio'] = metab_dict_mes[k]['Area'] / metab_dict_mes[k]['ISTD Response']\n",
    "        metab_dict_mes[k]['Response Ratio'] = metab_dict_mes[k]['Response Ratio'].fillna(0).replace(np.inf, 0)\n",
    "        metab_dict_mes[k]['Sample_name'] = [fn.split('_')[-1] for fn in metab_dict_mes[k]['Filename']]\n",
    "        # Add annotations:\n",
    "        # metab_dict_mes[k] = metab_dict_mes[k].merge(annotation_df, left_on='Sample_name', right_on='Sample_name')\n",
    "        metab_dict_mes[k] = metab_dict_mes[k].drop(['Flag Details', 'Filename', 'Type', 'RT'], axis=1)"
   ]
  },
  {
   "cell_type": "code",
   "execution_count": 5,
   "metadata": {},
   "outputs": [],
   "source": [
    "### Impute concentration and add to metabolite dataframe ###\n",
    "rr_mes = dict() # for plotting \n",
    "imp_conc_mes = dict() # for plotting\n",
    "for metab in metab_names_mes[:]:\n",
    "    # Assign imputed concentration:\n",
    "    if metab in piece_wise_fit_quant:\n",
    "        conc_list = list()\n",
    "        estimator_list = list()\n",
    "        for rr in metab_dict_mes[metab]['Response Ratio'].values:\n",
    "            conc, estimator = impute_conc(piece_wise_fit_quant[metab], rr)\n",
    "            conc_list.append(conc)\n",
    "            estimator_list.append(estimator)\n",
    "        metab_dict_mes[metab]['imputed_sample_conc'] = conc_list\n",
    "        metab_dict_mes[metab]['imputed_sample_estimator'] = estimator_list\n",
    "\n",
    "# metab_dict_mes['Lactate neg']['imputed_sample_conc'] = metab_dict_mes['Lactate neg']['Response Ratio'].values * 144.88\n",
    "# metab_dict_mes['Lactate neg']['imputed_sample_estimator'] = 'spike-in extrapolation'\n",
    "\n",
    "# metab_dict_mes['Glucose neg']['imputed_sample_conc'] = metab_dict_mes['Glucose neg']['Response Ratio'].values * 500\n",
    "# metab_dict_mes['Glucose neg']['imputed_sample_estimator'] = 'spike-in extrapolation'"
   ]
  },
  {
   "cell_type": "code",
   "execution_count": 6,
   "metadata": {},
   "outputs": [],
   "source": [
    "# Generate dataframe for concentrations and estimtors:\n",
    "conc_df = metab_dict_mes['Glutamine pos'].loc[:, ['Sample_name']]\n",
    "est_df = metab_dict_mes['Glutamine pos'].loc[:, ['Sample_name']]\n",
    "\n",
    "for metab_nam in metab_dict_mes:\n",
    "    if 'imputed_sample_conc' in metab_dict_mes[metab_nam].columns:\n",
    "        conc_df = conc_df.merge(metab_dict_mes[metab_nam].loc[:, ['Sample_name', 'imputed_sample_conc']], on='Sample_name')\n",
    "        conc_df = conc_df.rename(columns={'imputed_sample_conc': metab_nam})\n",
    "        est_df = est_df.merge(metab_dict_mes[metab_nam].loc[:, ['Sample_name', 'imputed_sample_estimator']], on='Sample_name')\n",
    "        est_df = est_df.rename(columns={'imputed_sample_estimator': metab_nam})\n",
    "\n",
    "# Write to Excel file:\n",
    "# with pd.ExcelWriter('20230208_Cholangio_media_consumption_analysis_conc.xlsx') as writer:\n",
    "with pd.ExcelWriter('20230425_Cholangio_NRF2on_media_consumption_analysis_conc.xlsx') as writer:\n",
    "    conc_df.to_excel(writer, sheet_name='conc_uM')\n",
    "    est_df.to_excel(writer, sheet_name='estimator')"
   ]
  },
  {
   "cell_type": "code",
   "execution_count": null,
   "metadata": {},
   "outputs": [],
   "source": []
  },
  {
   "cell_type": "code",
   "execution_count": null,
   "metadata": {},
   "outputs": [],
   "source": []
  },
  {
   "cell_type": "code",
   "execution_count": null,
   "metadata": {},
   "outputs": [],
   "source": []
  },
  {
   "cell_type": "code",
   "execution_count": null,
   "metadata": {},
   "outputs": [],
   "source": []
  },
  {
   "cell_type": "code",
   "execution_count": null,
   "metadata": {},
   "outputs": [],
   "source": []
  },
  {
   "cell_type": "code",
   "execution_count": null,
   "metadata": {},
   "outputs": [],
   "source": []
  },
  {
   "cell_type": "code",
   "execution_count": null,
   "metadata": {},
   "outputs": [],
   "source": []
  }
 ],
 "metadata": {
  "kernelspec": {
   "display_name": "Python 3",
   "language": "python",
   "name": "python3"
  },
  "language_info": {
   "codemirror_mode": {
    "name": "ipython",
    "version": 3
   },
   "file_extension": ".py",
   "mimetype": "text/x-python",
   "name": "python",
   "nbconvert_exporter": "python",
   "pygments_lexer": "ipython3",
   "version": "3.8.5"
  }
 },
 "nbformat": 4,
 "nbformat_minor": 2
}
