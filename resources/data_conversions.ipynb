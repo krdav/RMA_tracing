{
 "cells": [
  {
   "cell_type": "code",
   "execution_count": 1,
   "metadata": {},
   "outputs": [],
   "source": [
    "import pandas as pd\n",
    "import numpy as np\n",
    "import copy\n",
    "import json"
   ]
  },
  {
   "cell_type": "code",
   "execution_count": null,
   "metadata": {},
   "outputs": [],
   "source": []
  },
  {
   "cell_type": "markdown",
   "metadata": {},
   "source": [
    "# Description\n",
    "\n",
    "The script can be used to prepare filter lists by calculating mass from chemical formula.\n",
    "Here it is used to calculate and add exact mass to a table of known compounds and their labelled versions."
   ]
  },
  {
   "cell_type": "code",
   "execution_count": null,
   "metadata": {},
   "outputs": [],
   "source": []
  },
  {
   "cell_type": "code",
   "execution_count": 2,
   "metadata": {},
   "outputs": [],
   "source": [
    "def formula2mass(symbol2mass, isotope2mass, formula):\n",
    "    '''\n",
    "    Given a whitespace separated chemical formula, calculate the exact mass.\n",
    "    Isotopes deviating from the naturally most abundant are indicated by \n",
    "    their nominal (integer) mass enclodes by brackets.\n",
    "    E.g. 13C labelled glucose is: [13]C6 H12 O6 \n",
    "    A mix of labelled and unlabelled is written separated e.g.\n",
    "    glucose with half of carbons labelled is: C3 [13]C3 H12 O6 \n",
    "    '''\n",
    "    total_mass = 0\n",
    "    for element in formula.split():\n",
    "        for symbol in symbol2mass.keys():\n",
    "            if symbol in element and '[' != element[0]:\n",
    "                split_element = element.split(symbol)\n",
    "                if split_element[1] != '':\n",
    "                    N = split_element[1]\n",
    "                else:\n",
    "                    N = 1\n",
    "                total_mass += float(N) * symbol2mass[symbol]['Mass']\n",
    "\n",
    "            elif symbol in element and '[' == element[0]:\n",
    "                end = element.index(']')\n",
    "                isotope = element[1:end]\n",
    "                element = element[(end+1):]\n",
    "\n",
    "                split_element = element.split(symbol)\n",
    "                if split_element[1] != '':\n",
    "                    N = split_element[1]\n",
    "                else:\n",
    "                    N = 1\n",
    "                total_mass += float(N) * isotope2mass[symbol][isotope]\n",
    "\n",
    "    return(total_mass)"
   ]
  },
  {
   "cell_type": "code",
   "execution_count": null,
   "metadata": {},
   "outputs": [],
   "source": []
  },
  {
   "cell_type": "code",
   "execution_count": null,
   "metadata": {},
   "outputs": [],
   "source": []
  },
  {
   "cell_type": "markdown",
   "metadata": {},
   "source": [
    "### Read exact mass table"
   ]
  },
  {
   "cell_type": "code",
   "execution_count": 3,
   "metadata": {},
   "outputs": [],
   "source": [
    "# Read the exact mass of each element and the isotopes:\n",
    "mass_df = pd.read_csv('element_masses.tab', sep='\\t', comment='#')\n",
    "\n",
    "# Convert this into dictionaries usefull for\n",
    "# converting a chemical formula into a mass:\n",
    "symbol2mass = dict()\n",
    "isotope2mass = dict()\n",
    "for s, a, m in zip(mass_df['Symbol'], mass_df['Abundance'], mass_df['Mass']):\n",
    "    ei = s.index('(')\n",
    "    ss = s[:ei]\n",
    "    \n",
    "    if ss in symbol2mass and symbol2mass[ss]['Abundance'] < a:\n",
    "        symbol2mass[ss]['Mass'] = m\n",
    "        symbol2mass[ss]['Abundance'] = a\n",
    "    elif ss not in symbol2mass:\n",
    "        symbol2mass[ss] = {\n",
    "            'Mass': m,\n",
    "            'Abundance': a        \n",
    "        }\n",
    "    N = str(round(m))\n",
    "    if ss not in isotope2mass:\n",
    "        isotope2mass[ss] = {N: m}\n",
    "    else:\n",
    "        isotope2mass[ss][N] = m"
   ]
  },
  {
   "cell_type": "code",
   "execution_count": null,
   "metadata": {},
   "outputs": [],
   "source": []
  },
  {
   "cell_type": "markdown",
   "metadata": {},
   "source": [
    "### Add a mass to a table of compounds\n",
    "Given a tab separated table with a \"Formula\" column, calculated the exact mass and add it as a new column named \"Mass\".\n",
    "If the \"Mass\" column already exists it will be overwritten.\n",
    "Overwrite the old tab separated table file with a new containing a \"Mass\" column."
   ]
  },
  {
   "cell_type": "code",
   "execution_count": 4,
   "metadata": {},
   "outputs": [],
   "source": [
    "# Read known Gln labelled compounds and add mass column:\n",
    "lab_df = pd.read_csv('known_gln_labeled.tab', sep='\\t')\n",
    "lab_df['Mass'] = [formula2mass(symbol2mass, isotope2mass, f) for f in lab_df['Formula']]\n",
    "lab_df.to_csv('known_gln_labeled.tab', sep='\\t', index=False)\n",
    "\n",
    "# Read known Cys labelled compounds and add mass column:\n",
    "lab_df = pd.read_csv('known_cys_labeled.tab', sep='\\t')\n",
    "lab_df['Mass'] = [formula2mass(symbol2mass, isotope2mass, f) for f in lab_df['Formula']]\n",
    "lab_df.to_csv('known_cys_labeled.tab', sep='\\t', index=False)"
   ]
  },
  {
   "cell_type": "code",
   "execution_count": null,
   "metadata": {},
   "outputs": [],
   "source": []
  },
  {
   "cell_type": "code",
   "execution_count": 10,
   "metadata": {},
   "outputs": [],
   "source": []
  },
  {
   "cell_type": "code",
   "execution_count": null,
   "metadata": {},
   "outputs": [],
   "source": []
  },
  {
   "cell_type": "code",
   "execution_count": 85,
   "metadata": {},
   "outputs": [],
   "source": []
  },
  {
   "cell_type": "code",
   "execution_count": null,
   "metadata": {},
   "outputs": [],
   "source": []
  },
  {
   "cell_type": "code",
   "execution_count": null,
   "metadata": {},
   "outputs": [],
   "source": []
  },
  {
   "cell_type": "code",
   "execution_count": null,
   "metadata": {},
   "outputs": [],
   "source": []
  }
 ],
 "metadata": {
  "kernelspec": {
   "display_name": "Python 3",
   "language": "python",
   "name": "python3"
  },
  "language_info": {
   "codemirror_mode": {
    "name": "ipython",
    "version": 3
   },
   "file_extension": ".py",
   "mimetype": "text/x-python",
   "name": "python",
   "nbconvert_exporter": "python",
   "pygments_lexer": "ipython3",
   "version": "3.8.5"
  }
 },
 "nbformat": 4,
 "nbformat_minor": 2
}
